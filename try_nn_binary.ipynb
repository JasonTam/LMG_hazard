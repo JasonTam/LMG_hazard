{
 "cells": [
  {
   "cell_type": "code",
   "execution_count": 1,
   "metadata": {
    "collapsed": false
   },
   "outputs": [],
   "source": [
    "import sys\n",
    "sys.path.append('/afs/ee.cooper.edu/user/t/a/tam8/documents/ml_misc/semi_supervised/')\n",
    "import coreg\n",
    "reload(coreg)\n",
    "sys.path.append('/afs/ee.cooper.edu/user/t/a/tam8/documents/ml_misc/ordinal/')\n",
    "import simple\n",
    "reload(simple)\n",
    "\n",
    "from transformers import *\n",
    "from sklearn.pipeline import Pipeline, make_pipeline, FeatureUnion, make_union\n",
    "\n",
    "import pandas as pd\n",
    "import numpy as np\n",
    "from sklearn import preprocessing\n",
    "import xgboost as xgb\n",
    "\n",
    "import metrics\n",
    "reload(metrics)\n",
    "from sklearn.cross_validation import StratifiedKFold\n",
    "\n",
    "from sklearn.base import clone\n",
    "\n",
    "from sklearn.svm import SVC, LinearSVC\n",
    "from sklearn.linear_model import LinearRegression, LogisticRegression, ElasticNet\n",
    "from sklearn.tree import DecisionTreeClassifier\n",
    "from sklearn.ensemble import AdaBoostClassifier, ExtraTreesClassifier, ExtraTreesRegressor\n",
    "\n",
    "from sklearn.preprocessing import StandardScaler\n",
    "\n",
    "import matplotlib.pyplot as plt\n",
    "%matplotlib inline\n",
    "import seaborn as sns\n",
    "\n",
    "from time import time"
   ]
  },
  {
   "cell_type": "code",
   "execution_count": 2,
   "metadata": {
    "collapsed": false
   },
   "outputs": [],
   "source": [
    "# Load Data\n",
    "import cPickle as pickle\n",
    "train_pd  = pd.read_pickle('saved/train_pd_enc.p')\n",
    "test_pd  = pd.read_pickle('saved/test_pd_enc.p')\n",
    "labels = pd.read_pickle('saved/labels.p')\n",
    "test_ind = pickle.load(open('saved/test_ind.p'))\n",
    "\n",
    "train = np.array(train_pd)\n",
    "test = np.array(test_pd)"
   ]
  },
  {
   "cell_type": "code",
   "execution_count": 3,
   "metadata": {
    "collapsed": false
   },
   "outputs": [
    {
     "name": "stdout",
     "output_type": "stream",
     "text": [
      "(50999,)\n",
      "(50999, 111)\n",
      "(51000, 111)\n",
      "50\n"
     ]
    }
   ],
   "source": [
    "X_train = train.astype(float)\n",
    "X_test = test.astype(float)\n",
    "y_train = np.array(labels)\n",
    "\n",
    "\n",
    "pipe = make_pipeline(\n",
    "    make_union(\n",
    "        IdentityTformer(),\n",
    "#         make_pipeline(AddTformer(1), BoxCoxTformer()),\n",
    "#         AnscombeTformer(),\n",
    "    ),\n",
    "    StandardScaler(),\n",
    ")\n",
    "pipe.fit(np.r_[X_train, X_test])\n",
    "\n",
    "\n",
    "X_train = pipe.transform(X_train)\n",
    "X_test = pipe.transform(X_test)\n",
    "# y_train = StandardScaler().fit_transform(np.log(y_train+1))\n",
    "\n",
    "# small_n = 5000\n",
    "# X_train = X_train[:small_n,:]\n",
    "# y_train = y_train[:small_n]\n",
    "\n",
    "print y_train.shape\n",
    "print X_train.shape\n",
    "print X_test.shape\n",
    "print len(np.unique(y_train))"
   ]
  },
  {
   "cell_type": "markdown",
   "metadata": {},
   "source": [
    "# Keras"
   ]
  },
  {
   "cell_type": "code",
   "execution_count": 41,
   "metadata": {
    "collapsed": false
   },
   "outputs": [],
   "source": [
    "from keras.models import Sequential\n",
    "from keras.layers.core import Dense, Activation, Dropout\n",
    "from keras.layers.normalization import BatchNormalization\n",
    "from keras.wrappers.scikit_learn import KerasClassifier\n",
    "from keras.optimizers import Adadelta, Adagrad, Adam\n",
    "\n",
    "model = Sequential()\n",
    "\n",
    "model.add(Dense(111, 256))\n",
    "model.add(Dropout(0.2))\n",
    "model.add(Activation('relu'))\n",
    "# model.add(BatchNormalization(256))\n",
    "model.add(Dropout(0.6))\n",
    "model.add(Dense(256, 256))\n",
    "model.add(Activation('relu'))\n",
    "# model.add(BatchNormalization(256))\n",
    "model.add(Dropout(0.6))\n",
    "model.add(Dense(256, 256))\n",
    "model.add(Activation('relu'))\n",
    "# model.add(BatchNormalization(256))\n",
    "model.add(Dropout(0.6))\n",
    "model.add(Dense(256, 1))\n",
    "\n",
    "# model.add(Dense(32, 256))\n",
    "# model.add(Activation('linear'))\n",
    "# model.add(Dense(256, 512))\n",
    "# model.add(Activation('linear'))\n",
    "# model.add(Dense(512, 256))\n",
    "# model.add(Activation('linear'))\n",
    "# model.add(Dense(256, 1))\n",
    "\n",
    "loss_type = 'mean_squared_error'\n",
    "# opt = Adadelta(lr=1.0, rho=0.95, epsilon=1e-6)\n",
    "# opt = Adadelta(lr=0.8, rho=0.90, epsilon=1e-6)\n",
    "opt = Adagrad(lr=0.01, epsilon=1e-6)\n",
    "\n",
    "# loss_type = 'mean_absolute_error'\n",
    "# model.compile(loss=loss_type, optimizer='rmsprop')\n",
    "\n",
    "# model.fit(X_train, y_train, nb_epoch=20, batch_size=1024)\n",
    "# score = model.evaluate(X_test, y_test, batch_size=1024)\n",
    "\n",
    "model.compile(loss=loss_type, optimizer=opt)\n",
    "model.save_weights('saved/nn_weights', overwrite=True)"
   ]
  },
  {
   "cell_type": "code",
   "execution_count": 42,
   "metadata": {
    "collapsed": false,
    "scrolled": true
   },
   "outputs": [
    {
     "name": "stdout",
     "output_type": "stream",
     "text": [
      "Fold 0 Train time: 29.807 s\tScore 0.34635\n",
      "Fold 1 Train time: 29.850 s\tScore 0.33943\n",
      "Fold 2 Train time: 29.818 s\tScore 0.33459\n",
      "done\n",
      "0.340120756639\n"
     ]
    }
   ],
   "source": [
    "# clf = simple.SimpleOrdinalClassifier(nn)\n",
    "\n",
    "# clf = KerasClassifier(model=model, optimizer='rmsprop', loss=loss_type)\n",
    "\n",
    "losses = []\n",
    "from keras.callbacks import Callback\n",
    "class LossHistory(Callback):\n",
    "    def on_train_begin(self, logs={}):\n",
    "        self.losses = []\n",
    "\n",
    "    def on_batch_end(self, batch, logs={}):\n",
    "        pass\n",
    "        \n",
    "    def on_epoch_end(self, epoch, logs={}):\n",
    "        self.losses.append(logs.get('val_loss'))\n",
    "# clf = ElasticNet()\n",
    "\n",
    "scores = []\n",
    "scores_base = []\n",
    "n_reps = 1\n",
    "k = 3\n",
    "for reps in range(n_reps):\n",
    "    skf = StratifiedKFold(y_train, n_folds=k,\n",
    "                          shuffle=True,\n",
    "                          random_state=np.random.randint(0,100))\n",
    "    for ii, (train, valid) in enumerate(skf):\n",
    "        model.load_weights('saved/nn_weights')\n",
    "        \n",
    "        \n",
    "        history = LossHistory()   # for keras\n",
    "        print 'Fold %d' % ii,\n",
    "        X_train_k = X_train[train]\n",
    "        X_valid_k = X_train[valid]\n",
    "        y_train_k = y_train[train]\n",
    "        y_valid_k = y_train[valid]\n",
    "        \n",
    "        tic = time()\n",
    "#         clf.fit(X_train_k, y_train_k)\n",
    "        \n",
    "#         clf.fit(X_train_k, y_train_k, batch_size=16384, nb_epoch=200)\n",
    "    \n",
    "        model.fit(X_train_k, y_train_k, \n",
    "                  nb_epoch=400, batch_size=16384,\n",
    "                  validation_data=(X_valid_k, y_valid_k),\n",
    "                  callbacks=[history],\n",
    "                  verbose=0)\n",
    "        \n",
    "        toc = time() - tic\n",
    "        print 'Train time: %2.3f s\\t' % toc, \n",
    "\n",
    "#         valid_preds = clf.predict(X_valid_k)\n",
    "#         valid_preds = clf.predict_proba(X_valid_k, batch_size=16384).flatten()\n",
    "        valid_preds = model.predict_proba(X_valid_k, batch_size=16384, verbose=0).flatten()\n",
    "        \n",
    "#         score = metrics.gini(y_valid_k, valid_preds)\n",
    "        score = metrics.normalized_gini(y_valid_k, valid_preds)\n",
    "        \n",
    "        print 'Score %1.5f' % score\n",
    "        scores.append(score)\n",
    "        \n",
    "        losses.append(history.losses)\n",
    "        \n",
    "print \"done\"\n",
    "print np.array(scores).mean()"
   ]
  },
  {
   "cell_type": "code",
   "execution_count": 43,
   "metadata": {
    "collapsed": false
   },
   "outputs": [
    {
     "data": {
      "text/plain": [
       "(14, 16)"
      ]
     },
     "execution_count": 43,
     "metadata": {},
     "output_type": "execute_result"
    },
    {
     "data": {
      "image/png": "[encoded data removed]",
      "text/plain": [
       "<matplotlib.figure.Figure at 0x7f1de421a0d0>"
      ]
     },
     "metadata": {},
     "output_type": "display_data"
    }
   ],
   "source": [
    "plt.plot(np.mean(losses, axis=0))\n",
    "plt.ylim([14, 16])"
   ]
  },
  {
   "cell_type": "code",
   "execution_count": 21,
   "metadata": {
    "collapsed": false
   },
   "outputs": [
    {
     "data": {
      "text/plain": [
       "{'loss': 'mean_absolute_error',\n",
       " 'model': <keras.models.Sequential at 0x7f72ef18dbd0>,\n",
       " 'optimizer': 'rmsprop'}"
      ]
     },
     "execution_count": 21,
     "metadata": {},
     "output_type": "execute_result"
    }
   ],
   "source": [
    "nn.get_params(deep=False)"
   ]
  },
  {
   "cell_type": "markdown",
   "metadata": {
    "collapsed": false
   },
   "source": [
    "# Predict Test Set"
   ]
  },
  {
   "cell_type": "code",
   "execution_count": 60,
   "metadata": {
    "collapsed": false
   },
   "outputs": [],
   "source": [
    "model.compile(loss=loss_type, optimizer='rmsprop')\n",
    "model.fit(X_train, y_train, \n",
    "          nb_epoch=10, batch_size=16384,\n",
    "          callbacks=[history],\n",
    "          verbose=0)\n",
    "\n",
    "preds = model.predict_proba(X_test, batch_size=16384, verbose=0).flatten()"
   ]
  },
  {
   "cell_type": "code",
   "execution_count": 62,
   "metadata": {
    "collapsed": false
   },
   "outputs": [
    {
     "name": "stdout",
     "output_type": "stream",
     "text": [
      "(51000,)\n",
      "(51000, 111)\n"
     ]
    }
   ],
   "source": [
    "print preds.shape\n",
    "print X_test.shape"
   ]
  },
  {
   "cell_type": "markdown",
   "metadata": {},
   "source": [
    "# Generate submission"
   ]
  },
  {
   "cell_type": "code",
   "execution_count": 63,
   "metadata": {
    "collapsed": false
   },
   "outputs": [],
   "source": [
    "preds = pd.DataFrame({\"Id\": test_ind, \"Hazard\": preds})\n",
    "preds = preds.set_index('Id')\n",
    "preds.to_csv('submissions/keras_benchmark.csv')"
   ]
  }
 ],
 "metadata": {
  "kernelspec": {
   "display_name": "Python 2",
   "language": "python",
   "name": "python2"
  },
  "language_info": {
   "codemirror_mode": {
    "name": "ipython",
    "version": 2
   },
   "file_extension": ".py",
   "mimetype": "text/x-python",
   "name": "python",
   "nbconvert_exporter": "python",
   "pygments_lexer": "ipython2",
   "version": "2.7.8"
  }
 },
 "nbformat": 4,
 "nbformat_minor": 0
}
