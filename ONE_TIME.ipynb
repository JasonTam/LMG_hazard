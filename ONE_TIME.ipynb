{
 "cells": [
  {
   "cell_type": "code",
   "execution_count": 24,
   "metadata": {
    "collapsed": false
   },
   "outputs": [
    {
     "name": "stdout",
     "output_type": "stream",
     "text": [
      "1\n"
     ]
    }
   ],
   "source": [
    "print 1"
   ]
  },
  {
   "cell_type": "code",
   "execution_count": 124,
   "metadata": {
    "collapsed": false
   },
   "outputs": [],
   "source": [
    "import sys\n",
    "sys.path.append('/afs/ee.cooper.edu/user/t/a/tam8/documents/ml_misc/semi_supervised/')\n",
    "import coreg\n",
    "reload(coreg)\n",
    "import rasco\n",
    "reload(rasco)\n",
    "import trireg\n",
    "reload(trireg)\n",
    "sys.path.append('/afs/ee.cooper.edu/user/t/a/tam8/documents/ml_misc/ordinal/')\n",
    "import simple\n",
    "reload(simple)\n",
    "sys.path.append('/afs/ee.cooper.edu/user/t/a/tam8/documents/ml_misc/ensemble/')\n",
    "import stacking\n",
    "reload(stacking)\n",
    "\n",
    "sys.path.append('/afs/ee.cooper.edu/user/t/a/tam8/documents/ml_misc/neighbors/')\n",
    "import rpfnn\n",
    "reload(rpfnn)\n",
    "import ann\n",
    "reload(ann)\n",
    "\n",
    "import pandas as pd\n",
    "import numpy as np\n",
    "from sklearn import preprocessing\n",
    "import xgboost as xgb\n",
    "\n",
    "import transformers as tforms\n",
    "reload(tforms)\n",
    "from sklearn.pipeline import Pipeline, make_pipeline, FeatureUnion, make_union\n",
    "\n",
    "import metrics\n",
    "reload(metrics)\n",
    "from sklearn.cross_validation import StratifiedKFold, train_test_split\n",
    "\n",
    "from sklearn.base import clone\n",
    "from sklearn.svm import SVC, LinearSVC, SVR\n",
    "from sklearn.naive_bayes import GaussianNB\n",
    "from sklearn.linear_model import LinearRegression, LogisticRegression, ElasticNet, Ridge, Lasso, SGDRegressor, SGDClassifier\n",
    "from sklearn.tree import DecisionTreeClassifier, ExtraTreeClassifier, DecisionTreeClassifier, DecisionTreeRegressor\n",
    "from sklearn.ensemble import ExtraTreesClassifier, ExtraTreesRegressor\n",
    "from sklearn.ensemble import RandomForestRegressor, RandomForestClassifier\n",
    "from sklearn.ensemble import AdaBoostClassifier, AdaBoostRegressor\n",
    "from sklearn.ensemble import BaggingRegressor\n",
    "from sklearn.lda import LDA\n",
    "from sklearn.qda import QDA\n",
    "from sklearn.neighbors import KNeighborsRegressor\n",
    "from sklearn.kernel_ridge import KernelRidge\n",
    "from sklearn.isotonic import IsotonicRegression\n",
    "from sklearn.preprocessing import StandardScaler\n",
    "\n",
    "from keras.models import Sequential\n",
    "from keras.layers.core import Dense, Activation, Dropout, MaxoutDense, Reshape\n",
    "from keras.layers.normalization import BatchNormalization\n",
    "from keras.wrappers.scikit_learn import KerasClassifier, KerasRegressor\n",
    "from keras.optimizers import Adadelta, Adagrad, Adam, RMSprop\n",
    "from keras.layers.advanced_activations import ParametricSoftplus, PReLU\n",
    "\n",
    "from svmlight_loader import dump_svmlight_file, load_svmlight_file\n",
    "\n",
    "from collections import Counter\n",
    "import minirank as mr\n",
    "\n",
    "import matplotlib.pyplot as plt\n",
    "%matplotlib inline\n",
    "import seaborn as sns\n",
    "\n",
    "from time import time\n",
    "\n",
    "import cPickle as pickle\n",
    "\n",
    "def wgmean(x, w):\n",
    "    return np.exp(np.sum(w*np.log(x), axis=1) / np.sum(w, axis=1))\n",
    "\n",
    "import logging \n",
    "\n"
   ]
  },
  {
   "cell_type": "code",
   "execution_count": 125,
   "metadata": {
    "collapsed": true
   },
   "outputs": [],
   "source": [
    "# Load Data custom\n",
    "train_pd  = pd.read_pickle('saved/train_pd_custom.p')\n",
    "test_pd  = pd.read_pickle('saved/test_pd_custom.p')\n",
    "\n",
    "labels = pd.read_pickle('saved/labels.p')\n",
    "test_ind = pickle.load(open('saved/test_ind.p'))\n",
    "y_binned = np.load('saved/y_binned.npy')"
   ]
  },
  {
   "cell_type": "code",
   "execution_count": 5,
   "metadata": {
    "collapsed": false
   },
   "outputs": [
    {
     "name": "stdout",
     "output_type": "stream",
     "text": [
      "(50999, 2000)\n",
      "(51000, 2000)\n"
     ]
    }
   ],
   "source": [
    "# mapped_train, _y = load_svmlight_file('saved/mapped2000_train.libsvm')\n",
    "# mapped_test, _y = load_svmlight_file('saved/mapped2000_test.libsvm')\n",
    "\n",
    "mapped_train, _y = load_svmlight_file('saved/mapped1000_train_79.libsvm')\n",
    "mapped_test, _y = load_svmlight_file('saved/mapped1000_test)79.libsvm')\n",
    "\n",
    "X_2000mean_train = mapped_train.todense()\n",
    "X_2000mean_test = mapped_test.todense()\n",
    "print X_2000mean_train.shape\n",
    "print X_2000mean_test.shape"
   ]
  },
  {
   "cell_type": "code",
   "execution_count": 126,
   "metadata": {
    "collapsed": false
   },
   "outputs": [
    {
     "name": "stdout",
     "output_type": "stream",
     "text": [
      "y_train (50999,)\n",
      "X_train (50999, 79)\n",
      "X_test (51000, 79)\n",
      "X_hold 50\n",
      "5\n",
      "(50999,)\n",
      "<type 'numpy.float64'>\n"
     ]
    }
   ],
   "source": [
    "train = np.array(train_pd)\n",
    "test = np.array(test_pd)\n",
    "\n",
    "X_train = train.astype(float)\n",
    "X_test = test.astype(float)\n",
    "y_train = np.array(labels)\n",
    "y_train_orig = np.array(labels)\n",
    "\n",
    "try:\n",
    "    X_train = np.c_[X_train, X_tsne2_26_train]\n",
    "    X_test = np.c_[X_test, X_tsne2_26_test]\n",
    "except:\n",
    "    pass\n",
    "\n",
    "try:\n",
    "    X_train = np.c_[X_train, X_2000mean]\n",
    "except:\n",
    "    pass\n",
    "\n",
    "holdout = False\n",
    "if holdout:\n",
    "    X_train, X_hold, \\\n",
    "    y_train, y_hold, \\\n",
    "    y_binned, y_binned_hold \\\n",
    "    = train_test_split(\n",
    "        X_train, y_train, y_binned, \n",
    "        test_size=0.2, random_state=0)\n",
    "\n",
    "# \"\"\"\n",
    "pipe_x = make_pipeline(\n",
    "    make_union(\n",
    "        tforms.IdentityTformer(),\n",
    "    ),\n",
    "    StandardScaler(),\n",
    ")\n",
    "pipe_y = make_pipeline(\n",
    "#     tforms.IdentityTformer(),\n",
    "    tforms.GeneralTformer(lambda x: np.log(x)),\n",
    ")\n",
    "pipe_x.fit(np.r_[X_train, X_test])\n",
    "pipe_y.fit(y_train)\n",
    "\n",
    "X_train = pipe_x.transform(X_train)\n",
    "X_test = pipe_x.transform(X_test)\n",
    "try:\n",
    "    X_hold = pipe_x.transform(X_hold)\n",
    "except:\n",
    "    pass\n",
    "\n",
    "y_train = pipe_y.fit_transform(y_train)\n",
    "\n",
    "# \"\"\"\n",
    "\n",
    "print 'y_train', y_train.shape\n",
    "print 'X_train', X_train.shape\n",
    "print 'X_test', X_test.shape\n",
    "try:\n",
    "    print 'X_hold', X_hold.shape\n",
    "except:\n",
    "    pass\n",
    "print len(np.unique(y_train))\n",
    "print len(np.unique(y_binned))\n",
    "print y_binned.shape\n",
    "print type(X_train[0][0])"
   ]
  },
  {
   "cell_type": "code",
   "execution_count": 7,
   "metadata": {
    "collapsed": false
   },
   "outputs": [
    {
     "name": "stdout",
     "output_type": "stream",
     "text": [
      "(50999, 2129)\n",
      "(51000, 2129)\n"
     ]
    }
   ],
   "source": [
    "# X_nn_train = np.c_[X_2000mean_train, X_train]\n",
    "# X_nn_test = np.c_[X_2000mean_test, X_test]\n",
    "\n",
    "X_nn_train = np.c_[X_2000mean_train, X_train]\n",
    "X_nn_test = np.c_[X_2000mean_test, X_test]\n",
    "\n",
    "print X_nn_train.shape\n",
    "print X_nn_test.shape"
   ]
  },
  {
   "cell_type": "code",
   "execution_count": 127,
   "metadata": {
    "collapsed": false
   },
   "outputs": [
    {
     "name": "stdout",
     "output_type": "stream",
     "text": [
      "(101999, 79)\n",
      "(101999,)\n"
     ]
    }
   ],
   "source": [
    "X_all = np.r_[X_train, X_test]\n",
    "y_binned_all = np.r_[y_binned-1, np.nan*np.ones(len(X_test))]\n",
    "print X_all.shape\n",
    "print y_binned_all.shape"
   ]
  },
  {
   "cell_type": "markdown",
   "metadata": {},
   "source": [
    "# DEFINE THE MODELS\n",
    "## BASE MODELS"
   ]
  },
  {
   "cell_type": "markdown",
   "metadata": {},
   "source": [
    "### NN (using sofia kmeans cluster distance maps)"
   ]
  },
  {
   "cell_type": "code",
   "execution_count": 128,
   "metadata": {
    "collapsed": true
   },
   "outputs": [
    {
     "ename": "NameError",
     "evalue": "name 'X_nn_train' is not defined",
     "output_type": "error",
     "traceback": [
      "\u001b[1;31m---------------------------------------------------------------------------\u001b[0m",
      "\u001b[1;31mNameError\u001b[0m                                 Traceback (most recent call last)",
      "\u001b[1;32m<ipython-input-128-97e63a19e81f>\u001b[0m in \u001b[0;36m<module>\u001b[1;34m()\u001b[0m\n\u001b[1;32m----> 1\u001b[1;33m \u001b[0mn_feats\u001b[0m \u001b[1;33m=\u001b[0m \u001b[0mX_nn_train\u001b[0m\u001b[1;33m.\u001b[0m\u001b[0mshape\u001b[0m\u001b[1;33m[\u001b[0m\u001b[1;36m1\u001b[0m\u001b[1;33m]\u001b[0m\u001b[1;33m\u001b[0m\u001b[0m\n\u001b[0m\u001b[0;32m      2\u001b[0m \u001b[0mdrop_prob\u001b[0m \u001b[1;33m=\u001b[0m \u001b[1;36m0.6\u001b[0m\u001b[1;33m\u001b[0m\u001b[0m\n\u001b[0;32m      3\u001b[0m \u001b[1;33m\u001b[0m\u001b[0m\n\u001b[0;32m      4\u001b[0m \u001b[0mmodel\u001b[0m \u001b[1;33m=\u001b[0m \u001b[0mSequential\u001b[0m\u001b[1;33m(\u001b[0m\u001b[1;33m)\u001b[0m\u001b[1;33m\u001b[0m\u001b[0m\n\u001b[0;32m      5\u001b[0m \u001b[1;33m\u001b[0m\u001b[0m\n",
      "\u001b[1;31mNameError\u001b[0m: name 'X_nn_train' is not defined"
     ]
    }
   ],
   "source": [
    "n_feats = X_nn_train.shape[1]\n",
    "drop_prob = 0.6\n",
    "\n",
    "model = Sequential()\n",
    "\n",
    "hidden_size = 1024\n",
    "model.add(Dense(n_feats, hidden_size))\n",
    "model.add(Dropout(0.2))\n",
    "model.add(ParametricSoftplus(hidden_size))\n",
    "model.add(BatchNormalization((hidden_size,)))\n",
    "model.add(Dropout(drop_prob))\n",
    "model.add(Dense(hidden_size, hidden_size))\n",
    "model.add(ParametricSoftplus(hidden_size))\n",
    "model.add(BatchNormalization((hidden_size,)))\n",
    "model.add(Dropout(drop_prob))\n",
    "model.add(Dense(hidden_size, hidden_size))\n",
    "model.add(ParametricSoftplus(hidden_size))\n",
    "model.add(BatchNormalization((hidden_size,)))\n",
    "model.add(Dropout(drop_prob))\n",
    "model.add(Dense(hidden_size, hidden_size))\n",
    "model.add(ParametricSoftplus(hidden_size))\n",
    "model.add(BatchNormalization((hidden_size,)))\n",
    "model.add(Dropout(drop_prob))\n",
    "model.add(Dense(hidden_size, 1))\n",
    "model.add(Activation('linear'))\n",
    "\n",
    "loss_type = 'msle'\n",
    "\n",
    "opt = RMSprop(lr=0.0005, rho=0.75, epsilon=1e-6)\n",
    "\n",
    "nn_reg = KerasRegressor(model, optimizer=opt, loss=loss_type,\n",
    "                        train_batch_size=1024*4, test_batch_size=1024*16,\n",
    "                        nb_epoch=500)"
   ]
  },
  {
   "cell_type": "markdown",
   "metadata": {},
   "source": [
    "### NN for 79 feats as normal"
   ]
  },
  {
   "cell_type": "code",
   "execution_count": 129,
   "metadata": {
    "collapsed": true
   },
   "outputs": [],
   "source": [
    "n_feats = X_train.shape[1]\n",
    "drop_prob = 0.5\n",
    "\n",
    "model = Sequential()\n",
    "\n",
    "# # for 79 feats\n",
    "hidden_size = 256\n",
    "model.add(Dense(n_feats, hidden_size))\n",
    "model.add(Dropout(0.2))\n",
    "model.add(ParametricSoftplus(hidden_size))\n",
    "model.add(BatchNormalization((hidden_size,)))\n",
    "model.add(Dropout(drop_prob))\n",
    "model.add(Dense(hidden_size, hidden_size))\n",
    "model.add(ParametricSoftplus(hidden_size))\n",
    "model.add(BatchNormalization((hidden_size,)))\n",
    "model.add(Dropout(drop_prob))\n",
    "model.add(Dense(hidden_size, hidden_size))\n",
    "model.add(ParametricSoftplus(hidden_size))\n",
    "model.add(BatchNormalization((hidden_size,)))\n",
    "model.add(Dropout(drop_prob))\n",
    "model.add(Dense(hidden_size, hidden_size))\n",
    "model.add(ParametricSoftplus(hidden_size))\n",
    "model.add(BatchNormalization((hidden_size,)))\n",
    "model.add(Dropout(drop_prob))\n",
    "model.add(Dense(hidden_size, 1))\n",
    "model.add(Activation('linear'))\n",
    "\n",
    "loss_type = 'mse'\n",
    "\n",
    "opt = RMSprop(lr=0.001, rho=0.75, epsilon=1e-6)\n",
    "\n",
    "nn_reg = KerasRegressor(model, optimizer=opt, loss=loss_type,\n",
    "                        train_batch_size=1024*4, test_batch_size=1024*16,\n",
    "                        nb_epoch=500)"
   ]
  },
  {
   "cell_type": "markdown",
   "metadata": {},
   "source": [
    "### GBM XGBOOST"
   ]
  },
  {
   "cell_type": "code",
   "execution_count": 130,
   "metadata": {
    "collapsed": false
   },
   "outputs": [],
   "source": [
    "gbm_reg = xgb.XGBRegressor(\n",
    "    objective=\"reg:linear\",\n",
    "    n_estimators=2800,\n",
    "    learning_rate=0.005,\n",
    "#     gamma=0.0,\n",
    "    max_depth=5,\n",
    "    min_child_weight=6,\n",
    "#     max_delta_step=10,\n",
    "    subsample=0.7,\n",
    "    colsample_bytree=0.7,\n",
    "#     scale_pos_weight=1.0,\n",
    "    base_score=0.5,\n",
    "    nthread=7,\n",
    "    seed=322,\n",
    "    silent=True,\n",
    ")\n",
    "\n",
    "gbm_bin = xgb.XGBClassifier(\n",
    "    objective=\"binary:logistic\",\n",
    "    n_estimators=150,\n",
    "    learning_rate=0.05,\n",
    "#     gamma=0.0,\n",
    "    max_depth=5,\n",
    "    min_child_weight=6,\n",
    "    subsample=0.7,\n",
    "    colsample_bytree=0.7,\n",
    "    base_score=0.5,\n",
    "    nthread=7,\n",
    "    seed=322,\n",
    "    silent=True,\n",
    ")\n",
    "\n",
    "gbm_cat = xgb.XGBClassifier(\n",
    "    objective=\"multi:softmax\",\n",
    "    n_estimators=150,\n",
    "    learning_rate=0.05,\n",
    "#     gamma=0.0,\n",
    "    max_depth=5,\n",
    "    min_child_weight=6,\n",
    "    subsample=0.7,\n",
    "    colsample_bytree=0.7,\n",
    "    base_score=0.5,\n",
    "    nthread=7,\n",
    "    seed=322,\n",
    "    silent=True,\n",
    ")\n",
    "\n"
   ]
  },
  {
   "cell_type": "markdown",
   "metadata": {},
   "source": [
    "### RF"
   ]
  },
  {
   "cell_type": "code",
   "execution_count": 131,
   "metadata": {
    "collapsed": true
   },
   "outputs": [],
   "source": [
    "rf_reg = RandomForestRegressor(n_jobs=-1, **{'max_leaf_nodes': None, \n",
    "                                         'bootstrap': False, \n",
    "                                         'min_samples_leaf': 8, \n",
    "                                         'n_estimators': 150, \n",
    "                                         'min_samples_split': 8, \n",
    "                                         'min_weight_fraction_leaf': 0.25, \n",
    "                                         'max_features': 'sqrt', \n",
    "                                         'max_depth': 12} )"
   ]
  },
  {
   "cell_type": "markdown",
   "metadata": {},
   "source": [
    "### Other crappy regressors"
   ]
  },
  {
   "cell_type": "code",
   "execution_count": 132,
   "metadata": {
    "collapsed": true
   },
   "outputs": [],
   "source": [
    "lin_reg = LinearRegression()\n",
    "ridge_reg = Ridge()"
   ]
  },
  {
   "cell_type": "markdown",
   "metadata": {},
   "source": [
    "### Custom weird stuff"
   ]
  },
  {
   "cell_type": "code",
   "execution_count": 133,
   "metadata": {
    "collapsed": false
   },
   "outputs": [
    {
     "name": "stderr",
     "output_type": "stream",
     "text": [
      "INFO:rasco:RASCO Init\n",
      "INFO:rasco:RASCO Init\n",
      "INFO:rasco:RASCO Init\n"
     ]
    }
   ],
   "source": [
    "# h = [GaussianNB() for _ in range(16)] + \\\n",
    "#     [DecisionTreeClassifier(max_depth=6, min_samples_split=5, class_weight='auto') for _ in range(4)] + \\\n",
    "#     [SGDClassifier(n_iter=20, loss='modified_huber', class_weight='auto', n_jobs=1) \n",
    "#      for _ in range(2)] + \\\n",
    "#     [ExtraTreeClassifier(max_depth=6, min_samples_split=6, class_weight='auto')\n",
    "#      for _ in range(4)]\n",
    "    \n",
    "h = [GaussianNB() for _ in range(16)] + \\\n",
    "    [DecisionTreeClassifier(max_depth=6, min_samples_split=5, class_weight='auto') for _ in range(4)]\n",
    "\n",
    "rasco_mix = rasco.Rasco(h,\n",
    "                        feat_ratio=0.6,\n",
    "                        n_estimators=20, max_iters=20,\n",
    "                        n_xfer=50,\n",
    "                        verbose=True,\n",
    "                        n_jobs=-1)\n",
    "\n",
    "rasco_gbm = rasco.Rasco([clone(gbm_bin) for _ in range(16)],\n",
    "                       feat_ratio=0.6,\n",
    "                       n_estimators=16, max_iters=10,\n",
    "                       n_xfer=200,\n",
    "                       verbose=True,\n",
    "                       n_jobs=1)\n",
    "\n",
    "rasco_gbm_cat = rasco.Rasco([clone(gbm_cat) for _ in range(8)],\n",
    "                       feat_ratio=0.6,\n",
    "                       n_estimators=8, max_iters=20,\n",
    "                       n_xfer=100,\n",
    "                       verbose=True,\n",
    "                       n_jobs=1)\n",
    "\n",
    "# ord_rasco = simple.SimpleOrdinalClassifier(rasco_mix, n_jobs=1)\n",
    "ord_rasco = simple.SimpleOrdinalClassifier(rasco_gbm, n_jobs=1)\n",
    "\n",
    "ord_gaussnb = simple.SimpleOrdinalClassifier(GaussianNB(), n_jobs=-1)\n"
   ]
  },
  {
   "cell_type": "markdown",
   "metadata": {},
   "source": [
    "## META MODELS"
   ]
  },
  {
   "cell_type": "markdown",
   "metadata": {},
   "source": [
    "### NN META"
   ]
  },
  {
   "cell_type": "code",
   "execution_count": 135,
   "metadata": {
    "collapsed": true
   },
   "outputs": [],
   "source": [
    "n_feats = 5\n",
    "drop_prob = 0.5\n",
    "\n",
    "model_meta = Sequential()\n",
    "hidden_size = 128\n",
    "model_meta.add(Dense(n_feats, hidden_size))\n",
    "model_meta.add(Dropout(0.2))\n",
    "model_meta.add(ParametricSoftplus(hidden_size))\n",
    "model_meta.add(BatchNormalization((hidden_size,)))\n",
    "model_meta.add(Dropout(drop_prob))\n",
    "model_meta.add(Dense(hidden_size, hidden_size))\n",
    "model_meta.add(ParametricSoftplus(hidden_size))\n",
    "model_meta.add(BatchNormalization((hidden_size,)))\n",
    "model_meta.add(Dropout(drop_prob))\n",
    "model_meta.add(Dense(hidden_size, hidden_size))\n",
    "model_meta.add(ParametricSoftplus(hidden_size))\n",
    "model_meta.add(BatchNormalization((hidden_size,)))\n",
    "model_meta.add(Dropout(drop_prob))\n",
    "model_meta.add(Dense(hidden_size, 1))\n",
    "model_meta.add(Activation('linear'))\n",
    "\n",
    "loss_type_meta = 'msle'\n",
    "\n",
    "opt_meta = RMSprop(lr=0.0005, rho=0.75, epsilon=1e-6)\n",
    "\n",
    "nn_meta = KerasRegressor(model=model_meta, optimizer=opt_meta, loss=loss_type_meta,\n",
    "                        train_batch_size=1024*4, test_batch_size=1024*16,\n",
    "                        nb_epoch=210)"
   ]
  },
  {
   "cell_type": "markdown",
   "metadata": {},
   "source": [
    "# THE STACK"
   ]
  },
  {
   "cell_type": "code",
   "execution_count": 138,
   "metadata": {
    "collapsed": false
   },
   "outputs": [
    {
     "name": "stderr",
     "output_type": "stream",
     "text": [
      "INFO:stacker:Stacker Init\n",
      "DEBUG:stacker:Extra Data: ['y_binned', 'X_all', 'y_binned_all']\n"
     ]
    }
   ],
   "source": [
    "fh = logging.FileHandler('/tmp/lmg_%d.log' % int(time()))\n",
    "\n",
    "stack = stacking.Stacking([\n",
    "        #            Ind   Output Dim\n",
    "        gbm_reg,     # 0     1\n",
    "        rf_reg,      # 1     1\n",
    "        lin_reg,     # 2     1\n",
    "        ord_rasco,   # 3     1/5\n",
    "        nn_reg,      # 4     1\n",
    "    ],\n",
    "#                           nn_meta,\n",
    "#                           meta_gbm,\n",
    "                          LinearRegression(),\n",
    "                          fit_params={\n",
    "        'base3_X': 'X_all',\n",
    "        'base3_y': 'y_binned_all',\n",
    "    },\n",
    "                          pred_params={\n",
    "        'base3_weighted': True,\n",
    "    },\n",
    "                          extra_data={\n",
    "        'y_binned': y_binned-1,\n",
    "        'X_all': X_all,\n",
    "        'y_binned_all': y_binned_all,\n",
    "    },\n",
    "                          include_orig_feats=False,\n",
    "                          use_probs=False,\n",
    "                          cv=5,\n",
    "                          verbose=1,\n",
    "                          save_level0_out=True,\n",
    "                          log_handler=fh,\n",
    "                         )"
   ]
  },
  {
   "cell_type": "markdown",
   "metadata": {},
   "source": [
    "# TRAINING"
   ]
  },
  {
   "cell_type": "code",
   "execution_count": null,
   "metadata": {
    "collapsed": false
   },
   "outputs": [
    {
     "name": "stderr",
     "output_type": "stream",
     "text": [
      "DEBUG:stacker:===[Fit & predict fold 0 for base models]===\n",
      "DEBUG:stacker:[XGBRegressor]\n",
      "DEBUG:stacker:\tTime fit:\t\t78.8271 s\n",
      "DEBUG:stacker:\tTime predict:\t\t0.459135 s\n",
      "DEBUG:stacker:[RandomForestRegressor]\n",
      "DEBUG:stacker:\tTime fit:\t\t4.7068 s\n",
      "DEBUG:stacker:\tTime predict:\t\t0.210986 s\n",
      "DEBUG:stacker:[LinearRegression]\n",
      "DEBUG:stacker:\tTime fit:\t\t0.472468 s\n",
      "DEBUG:stacker:\tTime predict:\t\t0.0015831 s\n",
      "DEBUG:stacker:[SimpleOrdinalClassifier]\n",
      "DEBUG:stacker:\tX data: X_all\n",
      "DEBUG:stacker:\ty data: y_binned_all\n",
      "DEBUG:rasco:Best candidate: pred_class=[1 1 1 1 1 1 1 1 1 1 1 1 1 1 1 1 1 1 1 1 1 1 1 1 1 1 1 1 1 1 1 1 1 1 1 1 1\n",
      " 1 1 1 1 1 1 1 1 1 1 1 1 1 1 1 1 1 1 1 1 1 1 1 1 1 1 1 1 1 1 1 1 1 1 1 1 1\n",
      " 1 1 1 1 1 1 1 1 1 1 1 1 1 1 1 1 1 1 1 1 1 1 1 1 1 1 1 1 1 1 1 1 1 1 1 1 1\n",
      " 1 1 1 1 1 1 1 1 1 1 1 1 1 1 1 1 1 1 1 1 1 1 1 1 1 1 1 1 1 1 1 1 1 1 1 1 1\n",
      " 1 1 1 1 1 1 1 1 1 1 1 1 1 1 1 1 1 1 1 1 1 1 1 1 1 1 1 1 1 1 1 1 1 1 1 1 1\n",
      " 1 1 1 1 1 1 1 1 1 1 1 1 1 1 1] | Prob: (200, (0.82294124, 0.88901913), 0.83759534, 0.00016339116, 1.3798841389720509, 2.2102069510449533)\n",
      "DEBUG:rasco:L-shape: (40999, 79) \t U-shape: (50800, 79)\n",
      "DEBUG:rasco:Iter #0 time: 48.8163\n",
      "DEBUG:rasco:Best candidate: pred_class=[1 1 1 1 1 1 1 1 1 1 1 1 1 1 1 1 1 1 1 1 1 1 1 1 1 1 1 1 1 1 1 1 1 1 1 1 1\n",
      " 1 1 1 1 1 1 1 1 1 1 1 1 1 1 1 1 1 1 1 1 1 1 1 1 1 1 1 1 1 1 1 1 1 1 1 1 1\n",
      " 1 1 1 1 1 1 1 1 1 1 1 1 1 1 1 1 1 1 1 1 1 1 1 1 1 1 1 1 1 1 1 1 1 1 1 1 1\n",
      " 1 1 1 1 1 1 1 1 1 1 1 1 1 1 1 1 1 1 1 1 1 1 1 1 1 1 1 1 1 1 1 1 1 1 1 1 1\n",
      " 1 1 1 1 1 1 1 1 1 1 1 1 1 1 1 1 1 1 1 1 1 1 1 1 1 1 1 1 1 1 1 1 1 1 1 1 1\n",
      " 1 1 1 1 1 1 1 1 1 1 1 1 1 1 1] | Prob: (200, (0.81993341, 0.84965205), 0.82819885, 4.5035194e-05, 0.9197474825707526, 0.024440615419184297)\n",
      "DEBUG:rasco:L-shape: (41199, 79) \t U-shape: (50600, 79)\n",
      "DEBUG:rasco:Iter #1 time: 49.1592\n",
      "DEBUG:rasco:Best candidate: pred_class=[1 1 1 1 1 1 1 1 1 1 1 1 1 1 1 1 1 1 1 1 1 1 1 1 1 1 1 1 1 1 1 1 1 1 1 1 1\n",
      " 1 1 1 1 1 1 1 1 1 1 1 1 1 1 1 1 1 1 1 1 1 1 1 1 1 1 1 1 1 1 1 1 1 1 1 1 1\n",
      " 1 1 1 1 1 1 1 1 1 1 1 1 1 1 1 1 1 1 1 1 1 1 1 1 1 1 1 1 1 1 1 1 1 1 1 1 1\n",
      " 1 1 1 1 1 1 1 1 1 1 1 1 1 1 1 1 1 1 1 1 1 1 1 1 1 1 1 1 1 1 1 1 1 1 1 1 1\n",
      " 1 1 1 1 1 1 1 1 1 1 1 1 1 1 1 1 1 1 1 1 1 1 1 1 1 1 1 1 1 1 1 1 1 1 1 1 1\n",
      " 1 1 1 1 1 1 1 1 1 1 1 1 1 1 1] | Prob: (200, (0.81997705, 0.84461415), 0.82851148, 4.229369e-05, 0.7766861746401821, -0.39305829583270313)\n",
      "DEBUG:rasco:L-shape: (41399, 79) \t U-shape: (50400, 79)\n",
      "DEBUG:rasco:Iter #2 time: 49.5442\n",
      "DEBUG:rasco:Best candidate: pred_class=[1 1 1 1 1 1 1 1 1 1 1 1 1 1 1 1 1 1 1 1 1 1 1 1 1 1 1 1 1 1 1 1 1 1 1 1 1\n",
      " 1 1 1 1 1 1 1 1 1 1 1 1 1 1 1 1 1 1 1 1 1 1 1 1 1 1 1 1 1 1 1 1 1 1 1 1 1\n",
      " 1 1 1 1 1 1 1 1 1 1 1 1 1 1 1 1 1 1 1 1 1 1 1 1 1 1 1 1 1 1 1 1 1 1 1 1 1\n",
      " 1 1 1 1 1 1 1 1 1 1 1 1 1 1 1 1 1 1 1 1 1 1 1 1 1 1 1 1 1 1 1 1 1 1 1 1 1\n",
      " 1 1 1 1 1 1 1 1 1 1 1 1 1 1 1 1 1 1 1 1 1 1 1 1 1 1 1 1 1 1 1 1 1 1 1 1 1\n",
      " 1 1 1 1 1 1 1 1 1 1 1 1 1 1 1] | Prob: (200, (0.81876898, 0.84421653), 0.8274495, 4.0171162e-05, 0.48552202383388315, -0.6647574135099417)\n",
      "DEBUG:rasco:L-shape: (41599, 79) \t U-shape: (50200, 79)\n",
      "DEBUG:rasco:Iter #3 time: 49.8781\n",
      "DEBUG:rasco:Best candidate: pred_class=[1 1 1 1 1 1 1 1 1 1 1 1 1 1 1 1 1 1 1 1 1 1 1 1 1 1 1 1 1 1 1 1 1 1 1 1 1\n",
      " 1 1 1 1 1 1 1 1 1 1 1 1 1 1 1 1 1 1 1 1 1 1 1 1 1 1 1 1 1 1 1 1 1 1 1 1 1\n",
      " 1 1 1 1 1 1 1 1 1 1 1 1 1 1 1 1 1 1 1 1 1 1 1 1 1 1 1 1 1 1 1 1 1 1 1 1 1\n",
      " 1 1 1 1 1 1 1 1 1 1 1 1 1 1 1 1 1 1 1 1 1 1 1 1 1 1 1 1 1 1 1 1 1 1 1 1 1\n",
      " 1 1 1 1 1 1 1 1 1 1 1 1 1 1 1 1 1 1 1 1 1 1 1 1 1 1 1 1 1 1 1 1 1 1 1 1 1\n",
      " 1 1 1 1 1 1 1 1 1 1 1 1 1 1 1] | Prob: (200, (0.81672621, 0.84694517), 0.82600355, 4.999536e-05, 0.6625623784996352, -0.48663223539029143)\n",
      "DEBUG:rasco:L-shape: (41799, 79) \t U-shape: (50000, 79)\n",
      "DEBUG:rasco:Iter #4 time: 49.9019\n",
      "DEBUG:rasco:Best candidate: pred_class=[1 1 1 1 1 1 1 1 1 1 1 1 1 1 1 1 1 1 1 1 1 1 1 1 1 1 1 1 1 1 1 1 1 1 1 1 1\n",
      " 1 1 1 1 1 1 1 1 1 1 1 1 1 1 1 1 1 1 1 1 1 1 1 1 1 1 1 1 1 1 1 1 1 1 1 1 1\n",
      " 1 1 1 1 1 1 1 1 1 1 1 1 1 1 1 1 1 1 1 1 1 1 1 1 1 1 1 1 1 1 1 1 1 1 1 1 1\n",
      " 1 1 1 1 1 1 1 1 1 1 1 1 1 1 1 1 1 1 1 1 1 1 1 1 1 1 1 1 1 1 1 1 1 1 1 1 1\n",
      " 1 1 1 1 1 1 1 1 1 1 1 1 1 1 1 1 1 1 1 1 1 1 1 1 1 1 1 1 1 1 1 1 1 1 1 1 1\n",
      " 1 1 1 1 1 1 1 1 1 1 1 1 1 1 1] | Prob: (200, (0.81489658, 0.836918), 0.82182068, 3.3201457e-05, 0.7665686180060994, -0.5218489054704962)\n",
      "DEBUG:rasco:L-shape: (41999, 79) \t U-shape: (49800, 79)\n",
      "DEBUG:rasco:Iter #5 time: 50.173\n",
      "DEBUG:rasco:Best candidate: pred_class=[1 1 1 1 1 1 1 1 1 1 1 1 1 1 1 1 1 1 1 1 1 1 1 1 1 1 1 1 1 1 1 1 1 1 1 1 1\n",
      " 1 1 1 1 1 1 1 1 1 1 1 1 1 1 1 1 1 1 1 1 1 1 1 1 1 1 1 1 1 1 1 1 1 1 1 1 1\n",
      " 1 1 1 1 1 1 1 1 1 1 1 1 1 1 1 1 1 1 1 1 1 1 1 1 1 1 1 1 1 1 1 1 1 1 1 1 1\n",
      " 1 1 1 1 1 1 1 1 1 1 1 1 1 1 1 1 1 1 1 1 1 1 1 1 1 1 1 1 1 1 1 1 1 1 1 1 1\n",
      " 1 1 1 1 1 1 1 1 1 1 1 1 1 1 1 1 1 1 1 1 1 1 1 1 1 1 1 1 1 1 1 1 1 1 1 1 1\n",
      " 1 1 1 1 1 1 1 1 1 1 1 1 1 1 1] | Prob: (200, (0.81171167, 0.83919519), 0.81893557, 3.4235331e-05, 0.9576445764763811, 0.6059596135270442)\n",
      "DEBUG:rasco:L-shape: (42199, 79) \t U-shape: (49600, 79)\n",
      "DEBUG:rasco:Iter #6 time: 50.2241\n",
      "DEBUG:rasco:Best candidate: pred_class=[1 1 1 1 1 1 1 1 1 1 1 1 1 1 1 1 1 1 1 1 1 1 1 1 1 1 1 1 1 1 1 1 1 1 1 1 1\n",
      " 1 1 1 1 1 1 1 1 1 1 1 1 1 1 1 1 1 1 1 1 1 1 1 1 1 1 1 1 1 1 1 1 1 1 1 1 1\n",
      " 1 1 1 1 1 1 1 1 1 1 1 1 1 1 1 1 1 1 1 1 1 1 1 1 1 1 1 1 1 1 1 1 1 1 1 1 1\n",
      " 1 1 1 1 1 1 1 1 1 1 1 1 1 1 1 1 1 1 1 1 1 1 1 1 1 1 1 1 1 1 1 1 1 1 1 1 1\n",
      " 1 1 1 1 1 1 1 1 1 1 1 1 1 1 1 1 1 1 1 1 1 1 1 1 1 1 1 1 1 1 1 1 1 1 1 1 1\n",
      " 1 1 1 1 1 1 1 1 1 1 1 1 1 1 1] | Prob: (200, (0.80824947, 0.83421367), 0.81616586, 3.7081052e-05, 0.7437988337855511, -0.08790546122241194)\n",
      "DEBUG:rasco:L-shape: (42399, 79) \t U-shape: (49400, 79)\n",
      "DEBUG:rasco:Iter #7 time: 50.2787\n",
      "DEBUG:rasco:Best candidate: pred_class=[1 1 1 1 1 1 1 1 1 1 1 1 1 1 1 1 1 1 1 1 1 1 1 1 1 1 1 1 1 1 1 1 1 1 1 1 1\n",
      " 1 1 1 1 1 1 1 1 1 1 1 1 1 1 1 1 1 1 1 1 1 1 1 1 1 1 1 1 1 1 1 1 1 1 1 1 1\n",
      " 1 1 1 1 1 1 1 1 1 1 1 1 1 1 1 1 1 1 1 1 1 1 1 1 1 1 1 1 1 1 1 1 1 1 1 1 1\n",
      " 1 1 1 1 1 1 1 1 1 1 1 1 1 1 1 1 1 1 1 1 1 1 1 1 1 1 1 1 1 1 1 1 1 1 1 1 1\n",
      " 1 1 1 1 1 1 1 1 1 1 1 1 1 1 1 1 1 1 1 1 1 1 1 1 1 1 1 1 1 1 1 1 1 1 1 1 1\n",
      " 1 1 1 1 1 1 1 1 1 1 1 1 1 1 1] | Prob: (200, (0.80523634, 0.83152241), 0.81124568, 2.6728518e-05, 1.523293728454951, 2.6697335642446163)\n",
      "DEBUG:rasco:L-shape: (42599, 79) \t U-shape: (49200, 79)\n",
      "DEBUG:rasco:Iter #8 time: 50.6977\n",
      "DEBUG:rasco:Best candidate: pred_class=[1 1 1 1 1 1 1 1 1 1 1 1 1 1 1 1 1 1 1 1 1 1 1 1 1 1 1 1 1 1 1 1 1 1 1 1 1\n",
      " 1 1 1 1 1 1 1 1 1 1 1 1 1 1 1 1 1 1 1 1 1 1 1 1 1 1 1 1 1 1 1 1 1 1 1 1 1\n",
      " 1 1 1 1 1 1 1 1 1 1 1 1 1 1 1 1 1 1 1 1 1 1 1 1 1 1 1 1 1 1 1 1 1 1 1 1 1\n",
      " 1 1 1 1 1 1 1 1 1 1 1 1 1 1 1 1 1 1 1 1 1 1 1 1 1 1 1 1 1 1 1 1 1 1 1 1 1\n",
      " 1 1 1 1 1 1 1 1 1 1 1 1 1 1 1 1 1 1 1 1 1 1 1 1 1 1 1 1 1 1 1 1 1 1 1 1 1\n",
      " 1 1 1 1 1 1 1 1 1 1 1 1 1 1 1] | Prob: (200, (0.8033241, 0.82549679), 0.80778646, 1.7921197e-05, 1.6495926256272502, 2.847610900393768)\n",
      "DEBUG:rasco:L-shape: (42799, 79) \t U-shape: (49000, 79)\n",
      "DEBUG:rasco:Iter #9 time: 51.014\n",
      "DEBUG:rasco:Total time: 499.692\n",
      "DEBUG:rasco:Best candidate: pred_class=[1 1 1 1 1 1 1 1 1 1 1 1 1 1 1 1 1 1 1 1 1 1 0 1 1 0 0 1 1 1 1 1 1 0 0 0 1\n",
      " 1 0 1 0 1 0 1 0 1 1 0 1 0 1 0 0 1 1 1 0 1 0 0 0 0 1 0 0 1 0 0 0 0 1 1 0 0\n",
      " 1 0 1 0 0 1 0 1 0 0 1 0 0 0 0 1 0 0 0 1 1 1 0 0 1 1 0 1 0 0 0 1 0 0 0 1 0\n",
      " 1 0 1 1 0 0 0 0 0 0 1 0 0 0 0 0 0 1 1 0 0 0 0 0 0 1 1 0 0 0 0 1 1 0 1 0 1\n",
      " 1 1 0 0 0 0 1 1 1 0 0 0 1 0 0 1 1 0 0 0 1 1 0 1 0 0 1 1 0 0 1 0 0 1 1 0 0\n",
      " 0 0 1 1 0 1 1 1 0 1 1 1 0 0 1] | Prob: (200, (0.75043637, 0.84164435), 0.76822114, 0.00025496166, 1.6346390809051132, 3.3216146448202615)\n",
      "DEBUG:rasco:L-shape: (40999, 79) \t U-shape: (50800, 79)\n",
      "DEBUG:rasco:Iter #0 time: 48.8749\n",
      "DEBUG:rasco:Best candidate: pred_class=[0 0 0 0 0 0 0 1 0 1 0 0 0 0 1 0 1 1 0 1 1 0 0 1 0 1 0 1 0 0 1 1 0 0 0 1 0\n",
      " 1 0 0 1 0 0 0 0 0 0 1 1 0 0 0 0 0 0 0 1 0 0 0 1 0 0 0 0 0 0 0 1 1 0 0 0 1\n",
      " 0 0 0 0 0 0 1 0 1 0 0 0 1 0 0 1 0 1 0 0 0 1 0 0 0 1 0 0 0 0 0 1 0 0 0 1 1\n",
      " 0 0 0 0 0 0 0 0 0 1 0 1 0 0 0 0 1 0 0 0 0 1 0 1 0 1 0 0 0 0 0 1 1 1 1 1 0\n",
      " 0 0 0 1 0 0 0 0 1 0 0 0 0 1 0 0 0 0 1 0 0 0 0 1 0 0 1 0 0 0 1 0 0 0 1 0 0\n",
      " 1 0 0 0 1 1 0 1 0 0 1 1 0 0 0] | Prob: (200, (0.75643581, 0.79338306), 0.7677964, 6.3476356e-05, 0.7891773302134564, 0.1216561088080117)\n",
      "DEBUG:rasco:L-shape: (41199, 79) \t U-shape: (50600, 79)\n",
      "DEBUG:rasco:Iter #1 time: 48.9947\n",
      "DEBUG:rasco:Best candidate: pred_class=[0 0 0 0 0 0 0 0 0 0 0 0 0 0 0 0 0 0 0 1 0 0 0 0 0 0 0 0 0 0 0 0 0 0 0 0 0\n",
      " 0 0 1 0 0 0 0 0 0 0 0 0 1 0 0 0 1 0 0 0 0 0 0 0 0 0 0 0 0 0 0 0 0 0 1 0 0\n",
      " 1 0 0 0 0 0 0 0 0 0 0 1 0 0 0 0 1 0 1 0 0 0 0 0 0 0 0 0 0 0 0 0 0 0 0 0 0\n",
      " 0 0 0 1 1 0 0 0 0 0 1 0 0 0 0 0 0 0 0 0 0 0 0 1 0 0 0 0 1 0 0 0 0 1 0 0 1\n",
      " 1 1 0 1 0 0 0 1 0 0 0 0 1 0 0 0 1 1 0 0 0 0 0 0 0 0 0 0 0 1 0 0 1 0 0 1 0\n",
      " 0 1 0 0 0 0 1 0 1 1 0 0 1 0 0] | Prob: (200, (0.76374441, 0.8042236), 0.7782678, 9.1686183e-05, 0.46107606504559256, -0.5696574830245815)\n",
      "DEBUG:rasco:L-shape: (41399, 79) \t U-shape: (50400, 79)\n",
      "DEBUG:rasco:Iter #2 time: 49.2403\n",
      "DEBUG:rasco:Best candidate: pred_class=[0 0 0 0 0 0 0 0 0 0 0 0 0 0 0 0 0 0 0 0 0 0 0 0 0 0 0 0 0 0 0 0 0 0 0 0 0\n",
      " 0 0 0 0 0 0 0 0 0 0 0 0 0 0 0 0 0 0 0 0 0 0 0 0 0 0 0 0 0 0 0 0 0 0 0 0 0\n",
      " 0 0 0 0 0 0 0 0 0 0 0 1 0 0 0 0 0 0 0 0 1 0 0 0 0 0 0 0 0 0 1 1 0 0 0 0 0\n",
      " 0 0 0 1 0 0 1 0 0 0 0 0 0 0 0 1 0 0 0 1 0 0 0 1 0 1 0 1 0 0 1 0 0 0 1 0 0\n",
      " 0 0 1 1 0 0 0 1 0 0 1 1 0 0 1 0 1 1 0 0 1 1 1 1 0 0 0 1 1 0 1 0 1 0 0 0 0\n",
      " 1 0 0 1 0 0 1 0 1 1 1 0 1 0 0] | Prob: (200, (0.75963706, 0.80726177), 0.77658027, 0.0001483415, 0.5387280046192512, -0.7414929989483516)\n",
      "DEBUG:rasco:L-shape: (41599, 79) \t U-shape: (50200, 79)\n",
      "DEBUG:rasco:Iter #3 time: 49.4833\n",
      "DEBUG:rasco:Best candidate: pred_class=[0 0 0 0 0 0 0 0 0 0 0 0 0 0 0 0 0 0 0 0 0 0 0 0 0 1 0 1 1 0 1 0 1 1 0 1 1\n",
      " 0 0 1 0 0 0 1 0 1 0 1 1 0 0 0 0 0 1 1 0 1 1 1 1 1 0 0 0 0 0 0 0 0 0 1 1 0\n",
      " 1 0 0 1 1 1 1 0 0 0 1 1 0 0 1 0 0 0 0 0 1 0 0 0 1 1 0 0 1 1 1 0 1 1 0 0 1\n",
      " 1 1 0 1 1 1 0 0 0 0 0 0 1 0 0 0 0 0 1 1 0 1 1 0 0 1 1 0 1 1 0 1 0 0 0 1 1\n",
      " 0 0 0 1 0 1 1 1 1 0 1 1 1 1 0 0 0 1 1 0 1 0 0 1 0 0 0 1 0 0 1 0 1 1 0 0 1\n",
      " 1 1 1 0 1 1 0 0 1 1 1 0 0 0 0] | Prob: (200, (0.75303257, 0.80490339), 0.76663989, 0.00010812165, 1.1135023095148193, 1.082779094680089)\n",
      "DEBUG:rasco:L-shape: (41799, 79) \t U-shape: (50000, 79)\n",
      "DEBUG:rasco:Iter #4 time: 49.5738\n",
      "DEBUG:rasco:Best candidate: pred_class=[1 1 1 1 1 1 0 1 1 1 1 1 0 1 1 1 1 0 0 1 1 1 1 0 0 0 1 0 0 0 0 0 1 1 1 0 0\n",
      " 0 1 0 1 1 1 1 1 1 1 0 1 0 0 1 1 1 1 0 1 0 0 1 0 0 0 0 1 1 0 0 0 0 1 1 0 0\n",
      " 0 0 1 1 1 1 0 0 1 1 0 0 1 0 1 1 0 0 1 0 1 0 1 1 1 1 0 0 0 1 1 0 0 0 0 0 1\n",
      " 0 1 0 1 1 0 0 0 0 1 0 0 0 1 1 0 1 0 0 0 0 0 0 0 0 0 0 1 1 1 1 0 0 0 1 1 0\n",
      " 1 1 1 0 0 1 0 1 0 1 1 1 1 0 1 1 0 0 0 0 0 1 1 1 0 0 1 0 0 1 0 1 1 0 0 0 0\n",
      " 1 1 0 1 0 0 0 0 1 0 0 0 0 0 1] | Prob: (200, (0.74916279, 0.78908795), 0.76031882, 7.6134667e-05, 0.7607850806258493, -0.10754246020150182)\n",
      "DEBUG:rasco:L-shape: (41999, 79) \t U-shape: (49800, 79)\n",
      "DEBUG:rasco:Iter #5 time: 49.3206\n",
      "DEBUG:rasco:Best candidate: pred_class=[1 1 0 1 1 1 1 1 1 1 1 1 1 1 0 1 0 1 1 0 1 1 0 1 0 1 0 1 1 1 0 0 0 0 1 1 1\n",
      " 0 0 1 0 0 0 1 0 0 1 1 1 1 1 1 0 1 1 1 0 0 0 0 0 0 1 0 1 1 0 1 0 0 0 1 0 1\n",
      " 0 0 0 0 0 0 1 0 0 1 0 1 1 0 0 0 0 1 0 0 1 0 1 1 0 0 0 1 0 0 0 0 1 1 1 0 1\n",
      " 0 0 0 1 1 0 0 0 0 0 0 1 1 1 1 0 0 0 1 0 0 0 0 0 0 1 1 0 0 1 0 1 0 0 1 0 1\n",
      " 0 1 1 0 0 1 1 0 0 1 0 0 1 0 1 0 1 0 1 1 0 0 0 1 1 0 0 0 1 0 1 1 1 0 0 1 1\n",
      " 0 0 1 0 0 1 0 0 0 0 0 1 0 1 1] | Prob: (200, (0.74849707, 0.78312248), 0.75801367, 5.7186044e-05, 0.9765939772133326, 0.4129723744045224)\n",
      "DEBUG:rasco:L-shape: (42199, 79) \t U-shape: (49600, 79)\n",
      "DEBUG:rasco:Iter #6 time: 49.7392\n",
      "DEBUG:rasco:Best candidate: pred_class=[1 1 1 1 1 1 1 1 1 0 1 0 0 1 0 0 0 1 1 0 0 1 0 0 1 0 1 1 0 0 0 1 0 1 0 1 0\n",
      " 0 1 0 0 0 1 0 1 1 0 1 1 1 0 0 0 1 0 1 1 0 0 1 1 0 1 1 1 1 1 0 0 0 1 0 0 1\n",
      " 1 0 0 1 0 1 1 0 0 0 1 0 0 1 1 0 0 0 0 1 0 1 0 0 1 0 0 0 0 1 0 0 0 0 0 0 0\n",
      " 0 0 0 0 0 1 0 1 1 0 0 0 1 1 0 1 1 1 1 1 1 1 1 1 1 0 1 1 0 0 0 0 1 1 1 1 0\n",
      " 1 0 0 1 1 0 1 0 0 1 0 0 0 1 0 0 0 0 0 0 0 1 1 0 0 1 0 0 1 0 0 0 0 0 0 1 0\n",
      " 0 0 0 0 1 1 0 0 0 0 1 0 1 1 1] | Prob: (200, (0.74860257, 0.79628086), 0.76349211, 9.4920302e-05, 0.4284356378562634, -0.19202118201542495)\n",
      "DEBUG:rasco:L-shape: (42399, 79) \t U-shape: (49400, 79)\n",
      "DEBUG:rasco:Iter #7 time: 49.8944\n",
      "DEBUG:rasco:Best candidate: pred_class=[0 0 0 1 0 0 0 1 0 0 0 0 1 1 1 1 1 0 0 0 0 0 1 1 1 1 0 0 0 0 0 0 0 0 0 0 0\n",
      " 1 1 1 1 1 1 0 1 0 0 1 0 0 0 0 1 0 0 0 1 0 0 0 1 0 0 1 0 1 0 0 0 0 0 0 1 0\n",
      " 0 1 0 0 0 1 0 0 1 0 0 0 0 0 1 0 0 1 1 0 1 0 0 0 1 0 0 1 0 0 0 0 1 0 0 0 1\n",
      " 0 1 0 0 0 1 0 1 0 0 1 0 0 0 0 0 1 1 0 1 1 1 0 1 1 0 1 0 1 0 0 0 0 0 0 1 0\n",
      " 0 0 0 0 0 1 0 1 0 1 0 0 1 0 0 0 0 0 0 0 0 0 0 1 0 0 1 0 1 0 1 0 1 0 1 0 0\n",
      " 1 0 1 1 0 0 0 0 0 1 0 0 0 0 1] | Prob: (200, (0.74525499, 0.78323632), 0.7582618, 9.1006645e-05, 0.5950099689880783, -0.6292523567927368)\n",
      "DEBUG:rasco:L-shape: (42599, 79) \t U-shape: (49200, 79)\n",
      "DEBUG:rasco:Iter #8 time: 50.2187\n",
      "DEBUG:rasco:Best candidate: pred_class=[0 0 1 0 0 0 0 1 0 0 0 0 0 0 1 0 1 0 0 1 0 1 1 1 0 0 0 0 0 1 0 0 1 1 0 0 1\n",
      " 0 0 0 0 0 0 0 1 0 1 1 0 0 0 0 1 1 0 0 1 0 0 1 1 0 0 0 0 1 0 0 1 0 0 0 0 0\n",
      " 0 0 1 0 0 1 1 0 0 0 0 0 1 0 0 0 0 0 0 0 1 0 1 1 1 0 0 0 0 1 0 0 0 1 1 0 0\n",
      " 1 0 0 1 0 0 0 1 0 1 1 0 1 1 0 0 0 0 1 0 1 0 0 0 0 1 0 0 0 0 0 1 1 0 1 1 0\n",
      " 0 0 0 1 0 0 1 1 1 0 0 0 0 1 1 0 0 0 0 0 0 0 1 0 1 0 0 1 1 0 0 0 0 0 0 1 0\n",
      " 0 0 0 0 1 0 0 0 0 0 0 0 0 0 0] | Prob: (200, (0.73744655, 0.78216463), 0.75181925, 0.00012342317, 0.6337062061385982, -0.6071352571973354)\n",
      "DEBUG:rasco:L-shape: (42799, 79) \t U-shape: (49000, 79)\n",
      "DEBUG:rasco:Iter #9 time: 50.3496\n",
      "DEBUG:rasco:Total time: 495.696\n",
      "DEBUG:rasco:Best candidate: pred_class=[0 0 0 0 0 0 0 0 0 0 0 0 0 0 0 0 0 0 0 0 0 0 0 0 0 0 0 0 0 0 0 0 0 0 0 0 0\n",
      " 0 0 0 0 0 0 0 0 0 0 0 0 0 0 0 0 0 0 0 0 0 0 0 0 0 0 0 0 0 0 0 0 0 0 0 0 0\n",
      " 0 0 0 0 0 0 0 0 0 0 0 0 0 0 0 0 0 0 0 0 0 0 0 0 0 0 0 0 0 0 0 0 0 0 0 0 0\n",
      " 0 0 0 0 0 0 0 0 0 0 0 0 0 0 0 0 0 0 0 0 0 0 0 0 0 0 0 0 0 0 0 0 0 0 0 0 0\n",
      " 0 0 0 0 0 0 0 0 0 0 0 0 0 0 0 0 0 0 0 0 0 0 0 0 0 0 0 0 0 0 0 0 0 0 0 0 0\n",
      " 0 0 0 0 0 0 0 0 0 0 0 0 0 0 0] | Prob: (200, (0.94815904, 0.96624112), 0.95399874, 1.4862185e-05, 0.46577118786471866, -0.31125144839585417)\n",
      "DEBUG:rasco:L-shape: (40999, 79) \t U-shape: (50800, 79)\n",
      "DEBUG:rasco:Iter #0 time: 47.967\n",
      "DEBUG:rasco:Best candidate: pred_class=[0 0 0 0 0 0 0 0 0 0 0 0 0 0 0 0 0 0 0 0 0 0 0 0 0 0 0 0 0 0 0 0 0 0 0 0 0\n",
      " 0 0 0 0 0 0 0 0 0 0 0 0 0 0 0 0 0 0 0 0 0 0 0 0 0 0 0 0 0 0 0 0 0 0 0 0 0\n",
      " 0 0 0 0 0 0 0 0 0 0 0 0 0 0 0 0 0 0 0 0 0 0 0 0 0 0 0 0 0 0 0 0 0 0 0 0 0\n",
      " 0 0 0 0 0 0 0 0 0 0 0 0 0 0 0 0 0 0 0 0 0 0 0 0 0 0 0 0 0 0 0 0 0 0 0 0 0\n",
      " 0 0 0 0 0 0 0 0 0 0 0 0 0 0 0 0 0 0 0 0 0 0 0 0 0 0 0 0 0 0 0 0 0 0 0 0 0\n",
      " 0 0 0 0 0 0 0 0 0 0 0 0 0 0 0] | Prob: (200, (0.94803768, 0.96115679), 0.95361054, 1.1706203e-05, 0.1529159915065454, -1.0376129831645107)\n",
      "DEBUG:rasco:L-shape: (41199, 79) \t U-shape: (50600, 79)\n",
      "DEBUG:rasco:Iter #1 time: 48.6743\n",
      "DEBUG:rasco:Best candidate: pred_class=[0 0 0 0 0 0 0 0 0 0 0 0 0 0 0 0 0 0 0 0 0 0 0 0 0 0 0 0 0 0 0 0 0 0 0 0 0\n",
      " 0 0 0 0 0 0 0 0 0 0 0 0 0 0 0 0 0 0 0 0 0 0 0 0 0 0 0 0 0 0 0 0 0 0 0 0 0\n",
      " 0 0 0 0 0 0 0 0 0 0 0 0 0 0 0 0 0 0 0 0 0 0 0 0 0 0 0 0 0 0 0 0 0 0 0 0 0\n",
      " 0 0 0 0 0 0 0 0 0 0 0 0 0 0 0 0 0 0 0 0 0 0 0 0 0 0 0 0 0 0 0 0 0 0 0 0 0\n",
      " 0 0 0 0 0 0 0 0 0 0 0 0 0 0 0 0 0 0 0 0 0 0 0 0 0 0 0 0 0 0 0 0 0 0 0 0 0\n",
      " 0 0 0 0 0 0 0 0 0 0 0 0 0 0 0] | Prob: (200, (0.94374186, 0.95712614), 0.94850576, 1.0334559e-05, 0.4147300457712855, -0.7213746668348553)\n",
      "DEBUG:rasco:L-shape: (41399, 79) \t U-shape: (50400, 79)\n",
      "DEBUG:rasco:Iter #2 time: 48.7134\n",
      "DEBUG:rasco:Best candidate: pred_class=[0 0 0 0 0 0 0 0 0 0 0 0 0 0 0 0 0 0 0 0 0 0 0 0 0 0 0 0 0 0 0 0 0 0 0 0 0\n",
      " 0 0 0 0 0 0 0 0 0 0 0 0 0 0 0 0 0 0 0 0 0 0 0 0 0 0 0 0 0 0 0 0 0 0 0 0 0\n",
      " 0 0 0 0 0 0 0 0 0 0 0 0 0 0 0 0 0 0 0 0 0 0 0 0 0 0 0 0 0 0 0 0 0 0 0 0 0\n",
      " 0 0 0 0 0 0 0 0 0 0 0 0 0 0 0 0 0 0 0 0 0 0 0 0 0 0 0 0 0 0 0 0 0 0 0 0 0\n",
      " 0 0 0 0 0 0 0 0 0 0 0 0 0 0 0 0 0 0 0 0 0 0 0 0 0 0 0 0 0 0 0 0 0 0 0 0 0\n",
      " 0 0 0 0 0 0 0 0 0 0 0 0 0 0 0] | Prob: (200, (0.94121397, 0.95404792), 0.94567728, 8.4904041e-06, 0.5194431897716122, -0.25467797231850664)\n",
      "DEBUG:rasco:L-shape: (41599, 79) \t U-shape: (50200, 79)\n",
      "DEBUG:rasco:Iter #3 time: 49.1348\n",
      "DEBUG:rasco:Best candidate: pred_class=[0 0 0 0 0 0 0 0 0 0 0 0 0 0 0 0 0 0 0 0 0 0 0 0 0 0 0 0 0 0 0 0 0 0 0 0 0\n",
      " 0 0 0 0 0 0 0 0 0 0 0 0 0 0 0 0 0 0 0 0 0 0 0 0 0 0 0 0 0 0 0 0 0 0 0 0 0\n",
      " 0 0 0 0 0 0 0 0 0 0 0 0 0 0 0 0 0 0 0 0 0 0 0 0 0 0 0 0 0 0 0 0 0 0 0 0 0\n",
      " 0 0 0 0 0 0 0 0 0 0 0 0 0 0 0 0 0 0 0 0 0 0 0 0 0 0 0 0 0 0 0 0 0 0 0 0 0\n",
      " 0 0 0 0 0 0 0 0 0 0 0 0 0 0 0 0 0 0 0 0 0 0 0 0 0 0 0 0 0 0 0 0 0 0 0 0 0\n",
      " 0 0 0 0 0 0 0 0 0 0 0 0 0 0 0] | Prob: (200, (0.93690997, 0.95047909), 0.94146532, 8.26418e-06, 0.32841035738886176, -0.6207115397950189)\n",
      "DEBUG:rasco:L-shape: (41799, 79) \t U-shape: (50000, 79)\n",
      "DEBUG:rasco:Iter #4 time: 48.9445\n",
      "DEBUG:rasco:Best candidate: pred_class=[0 0 0 0 0 0 0 0 0 0 0 0 0 0 0 0 0 0 0 0 0 0 0 0 0 0 0 0 0 0 0 0 0 0 0 0 0\n",
      " 0 0 0 0 0 0 0 0 0 0 0 0 0 0 0 0 0 0 0 0 0 0 0 0 0 0 0 0 0 0 0 0 0 0 0 0 0\n",
      " 0 0 0 0 0 0 0 0 0 0 0 0 0 0 0 0 0 0 0 0 0 0 0 0 0 0 0 0 0 0 0 0 0 0 0 0 0\n",
      " 0 0 0 0 0 0 0 0 0 0 0 0 0 0 0 0 0 0 0 0 0 0 0 0 0 0 0 0 0 0 0 0 0 0 0 0 0\n",
      " 0 0 0 0 0 0 0 0 0 0 0 0 0 0 0 0 0 0 0 0 0 0 0 0 0 0 0 0 0 0 0 0 0 0 0 0 0\n",
      " 0 0 0 0 0 0 0 0 0 0 0 0 0 0 0] | Prob: (200, (0.93232602, 0.94841033), 0.93739015, 1.5244302e-05, 0.6572357319239847, -0.5354372795012905)\n",
      "DEBUG:rasco:L-shape: (41999, 79) \t U-shape: (49800, 79)\n",
      "DEBUG:rasco:Iter #5 time: 49.3874\n",
      "DEBUG:rasco:Best candidate: pred_class=[0 0 0 0 0 0 0 0 0 0 0 0 0 0 0 0 0 0 0 0 0 0 0 0 0 0 0 0 0 0 0 0 0 0 0 0 0\n",
      " 0 0 0 0 0 0 0 0 0 0 0 0 0 0 0 0 0 0 0 0 0 0 0 0 0 0 0 0 0 0 0 0 0 0 0 0 0\n",
      " 0 0 0 0 0 0 0 0 0 0 0 0 0 0 0 0 0 0 0 0 0 0 0 0 0 0 0 0 0 0 0 0 0 0 0 0 0\n",
      " 0 0 0 0 0 0 0 0 0 0 0 0 0 0 0 0 0 0 0 0 0 0 0 0 0 0 0 0 0 0 0 0 0 0 0 0 0\n",
      " 0 0 0 0 0 0 0 0 0 0 0 0 0 0 0 0 0 0 0 0 0 0 0 0 0 0 0 0 0 0 0 0 0 0 0 0 0\n",
      " 0 0 0 0 0 0 0 0 0 0 0 0 0 0 0] | Prob: (200, (0.92860562, 0.94097316), 0.93212014, 8.5084257e-06, 1.0247885690506864, 0.34417167601938115)\n",
      "DEBUG:rasco:L-shape: (42199, 79) \t U-shape: (49600, 79)\n",
      "DEBUG:rasco:Iter #6 time: 49.7363\n",
      "DEBUG:rasco:Best candidate: pred_class=[0 0 0 0 0 0 0 0 0 0 0 0 0 0 0 0 0 0 0 0 0 0 0 0 0 0 0 0 0 0 0 0 0 0 0 0 0\n",
      " 0 0 0 0 0 0 0 0 0 0 0 0 0 0 0 0 0 0 0 0 0 0 0 0 0 0 0 0 0 0 0 0 0 0 0 0 0\n",
      " 0 0 0 0 0 0 0 0 0 0 0 0 0 0 0 0 0 0 0 0 0 0 0 0 0 0 0 0 0 0 0 0 0 0 0 0 0\n",
      " 0 0 0 0 0 0 0 0 0 0 0 0 0 0 0 0 0 0 0 0 0 0 0 0 0 0 0 0 0 0 0 0 0 0 0 0 0\n",
      " 0 0 0 0 0 0 0 0 0 0 0 0 0 0 0 0 0 0 0 0 0 0 0 0 0 0 0 0 0 0 0 0 0 0 0 0 0\n",
      " 0 0 0 0 0 0 0 0 0 0 0 0 0 0 0] | Prob: (200, (0.92624134, 0.9357807), 0.92917895, 4.5166485e-06, 0.6578390798318706, -0.21540061062658156)\n",
      "DEBUG:rasco:L-shape: (42399, 79) \t U-shape: (49400, 79)\n",
      "DEBUG:rasco:Iter #7 time: 50.4202\n",
      "DEBUG:rasco:Best candidate: pred_class=[0 0 0 0 0 0 0 0 0 0 0 0 0 0 0 0 0 0 0 0 0 0 0 0 0 0 0 0 0 0 0 0 0 0 0 0 0\n",
      " 0 0 0 0 0 0 0 0 0 0 0 0 0 0 0 0 0 0 0 0 0 0 0 0 0 0 0 0 0 0 0 0 0 0 0 0 0\n",
      " 0 0 0 0 0 0 0 0 0 0 0 0 0 0 0 0 0 0 0 0 0 0 0 0 0 0 0 0 0 0 0 0 0 0 0 0 0\n",
      " 0 0 0 0 0 0 0 0 0 0 0 0 0 0 0 0 0 0 0 0 0 0 0 0 0 0 0 0 0 0 0 0 0 0 0 0 0\n",
      " 0 0 0 0 0 0 0 0 0 0 0 0 0 0 0 0 0 0 0 0 0 0 0 0 0 0 0 0 0 0 0 0 0 0 0 0 0\n",
      " 0 0 0 0 0 0 0 0 0 0 0 0 0 0 0] | Prob: (200, (0.92547166, 0.93478185), 0.92785674, 3.4605466e-06, 1.0266823718569003, 0.7089582084214143)\n",
      "DEBUG:rasco:L-shape: (42599, 79) \t U-shape: (49200, 79)\n",
      "DEBUG:rasco:Iter #8 time: 50.8721\n",
      "DEBUG:rasco:Best candidate: pred_class=[0 0 0 0 0 0 0 0 0 0 0 0 0 0 0 0 0 0 0 0 0 0 0 0 0 0 0 0 0 0 0 0 0 0 0 0 0\n",
      " 0 0 0 0 0 0 0 0 0 0 0 0 0 0 0 0 0 0 0 0 0 0 0 0 0 0 0 0 0 0 0 0 0 0 0 0 0\n",
      " 0 0 0 0 0 0 0 0 0 0 0 0 0 0 0 0 0 0 0 0 0 0 0 0 0 0 0 0 0 0 0 0 0 0 0 0 0\n",
      " 0 0 0 0 0 0 0 0 0 0 0 0 0 0 0 0 0 0 0 0 0 0 0 0 0 0 0 0 0 0 0 0 0 0 0 0 0\n",
      " 0 0 0 0 0 0 0 0 0 0 0 0 0 0 0 0 0 0 0 0 0 0 0 0 0 0 0 0 0 0 0 0 0 0 0 0 0\n",
      " 0 0 0 0 0 0 0 0 0 0 0 0 0 0 0] | Prob: (200, (0.92459565, 0.93218499), 0.92690122, 3.0768272e-06, 0.8205621805192149, 0.060583790636476564)\n",
      "DEBUG:rasco:L-shape: (42799, 79) \t U-shape: (49000, 79)\n",
      "DEBUG:rasco:Iter #9 time: 51.2354\n",
      "DEBUG:rasco:Total time: 495.092\n",
      "DEBUG:rasco:Best candidate: pred_class=[0 0 0 0 0 0 0 0 0 0 0 0 0 0 0 0 0 0 0 0 0 0 0 0 0 0 0 0 0 0 0 0 0 0 0 0 0\n",
      " 0 0 0 0 0 0 0 0 0 0 0 0 0 0 0 0 0 0 0 0 0 0 0 0 0 0 0 0 0 0 0 0 0 0 0 0 0\n",
      " 0 0 0 0 0 0 0 0 0 0 0 0 0 0 0 0 0 0 0 0 0 0 0 0 0 0 0 0 0 0 0 0 0 0 0 0 0\n",
      " 0 0 0 0 0 0 0 0 0 0 0 0 0 0 0 0 0 0 0 0 0 0 0 0 0 0 0 0 0 0 0 0 0 0 0 0 0\n",
      " 0 0 0 0 0 0 0 0 0 0 0 0 0 0 0 0 0 0 0 0 0 0 0 0 0 0 0 0 0 0 0 0 0 0 0 0 0\n",
      " 0 0 0 0 0 0 0 0 0 0 0 0 0 0 0] | Prob: (200, (0.99461097, 0.99640417), 0.99509293, 1.5820005e-07, 1.0708706191090736, 0.7011846014847629)\n",
      "DEBUG:rasco:L-shape: (40999, 79) \t U-shape: (50800, 79)\n",
      "DEBUG:rasco:Iter #0 time: 48.8631\n",
      "DEBUG:rasco:Best candidate: pred_class=[0 0 0 0 0 0 0 0 0 0 0 0 0 0 0 0 0 0 0 0 0 0 0 0 0 0 0 0 0 0 0 0 0 0 0 0 0\n",
      " 0 0 0 0 0 0 0 0 0 0 0 0 0 0 0 0 0 0 0 0 0 0 0 0 0 0 0 0 0 0 0 0 0 0 0 0 0\n",
      " 0 0 0 0 0 0 0 0 0 0 0 0 0 0 0 0 0 0 0 0 0 0 0 0 0 0 0 0 0 0 0 0 0 0 0 0 0\n",
      " 0 0 0 0 0 0 0 0 0 0 0 0 0 0 0 0 0 0 0 0 0 0 0 0 0 0 0 0 0 0 0 0 0 0 0 0 0\n",
      " 0 0 0 0 0 0 0 0 0 0 0 0 0 0 0 0 0 0 0 0 0 0 0 0 0 0 0 0 0 0 0 0 0 0 0 0 0\n",
      " 0 0 0 0 0 0 0 0 0 0 0 0 0 0 0] | Prob: (200, (0.99440414, 0.99552953), 0.99479312, 6.7651044e-08, 0.5382606968047183, -0.44141957373504637)\n",
      "DEBUG:rasco:L-shape: (41199, 79) \t U-shape: (50600, 79)\n",
      "DEBUG:rasco:Iter #1 time: 48.2453\n",
      "DEBUG:rasco:Best candidate: pred_class=[0 0 0 0 0 0 0 0 0 0 0 0 0 0 0 0 0 0 0 0 0 0 0 0 0 0 0 0 0 0 0 0 0 0 0 0 0\n",
      " 0 0 0 0 0 0 0 0 0 0 0 0 0 0 0 0 0 0 0 0 0 0 0 0 0 0 0 0 0 0 0 0 0 0 0 0 0\n",
      " 0 0 0 0 0 0 0 0 0 0 0 0 0 0 0 0 0 0 0 0 0 0 0 0 0 0 0 0 0 0 0 0 0 0 0 0 0\n",
      " 0 0 0 0 0 0 0 0 0 0 0 0 0 0 0 0 0 0 0 0 0 0 0 0 0 0 0 0 0 0 0 0 0 0 0 0 0\n",
      " 0 0 0 0 0 0 0 0 0 0 0 0 0 0 0 0 0 0 0 0 0 0 0 0 0 0 0 0 0 0 0 0 0 0 0 0 0\n",
      " 0 0 0 0 0 0 0 0 0 0 0 0 0 0 0] | Prob: (200, (0.99411815, 0.99536836), 0.99457479, 8.3662108e-08, 0.3915811799167808, -0.5504059348752515)\n",
      "DEBUG:rasco:L-shape: (41399, 79) \t U-shape: (50400, 79)\n",
      "DEBUG:rasco:Iter #2 time: 49.1885\n",
      "DEBUG:rasco:Best candidate: pred_class=[0 0 0 0 0 0 0 0 0 0 0 0 0 0 0 0 0 0 0 0 0 0 0 0 0 0 0 0 0 0 0 0 0 0 0 0 0\n",
      " 0 0 0 0 0 0 0 0 0 0 0 0 0 0 0 0 0 0 0 0 0 0 0 0 0 0 0 0 0 0 0 0 0 0 0 0 0\n",
      " 0 0 0 0 0 0 0 0 0 0 0 0 0 0 0 0 0 0 0 0 0 0 0 0 0 0 0 0 0 0 0 0 0 0 0 0 0\n",
      " 0 0 0 0 0 0 0 0 0 0 0 0 0 0 0 0 0 0 0 0 0 0 0 0 0 0 0 0 0 0 0 0 0 0 0 0 0\n",
      " 0 0 0 0 0 0 0 0 0 0 0 0 0 0 0 0 0 0 0 0 0 0 0 0 0 0 0 0 0 0 0 0 0 0 0 0 0\n",
      " 0 0 0 0 0 0 0 0 0 0 0 0 0 0 0] | Prob: (200, (0.99332571, 0.99510092), 0.99410135, 2.2538372e-07, 0.07151500455151284, -1.0454116495267856)\n",
      "DEBUG:rasco:L-shape: (41599, 79) \t U-shape: (50200, 79)\n",
      "DEBUG:rasco:Iter #3 time: 49.3752\n",
      "DEBUG:rasco:Best candidate: pred_class=[0 0 0 0 0 0 0 0 0 0 0 0 0 0 0 0 0 0 0 0 0 0 0 0 0 0 0 0 0 0 0 0 0 0 0 0 0\n",
      " 0 0 0 0 0 0 0 0 0 0 0 0 0 0 0 0 0 0 0 0 0 0 0 0 0 0 0 0 0 0 0 0 0 0 0 0 0\n",
      " 0 0 0 0 0 0 0 0 0 0 0 0 0 0 0 0 0 0 0 0 0 0 0 0 0 0 0 0 0 0 0 0 0 0 0 0 0\n",
      " 0 0 0 0 0 0 0 0 0 0 0 0 0 0 0 0 0 0 0 0 0 0 0 0 0 0 0 0 0 0 0 0 0 0 0 0 0\n",
      " 0 0 0 0 0 0 0 0 0 0 0 0 0 0 0 0 0 0 0 0 0 0 0 0 0 0 0 0 0 0 0 0 0 0 0 0 0\n",
      " 0 0 0 0 0 0 0 0 0 0 0 0 0 0 0] | Prob: (200, (0.99193108, 0.99452621), 0.99290365, 4.6088709e-07, 0.4126060556199951, -0.7434069549151858)\n",
      "DEBUG:rasco:L-shape: (41799, 79) \t U-shape: (50000, 79)\n",
      "DEBUG:rasco:Iter #4 time: 49.3583\n",
      "DEBUG:rasco:Best candidate: pred_class=[0 0 0 0 0 0 0 0 0 0 0 0 0 0 0 0 0 0 0 0 0 0 0 0 0 0 0 0 0 0 0 0 0 0 0 0 0\n",
      " 0 0 0 0 0 0 0 0 0 0 0 0 0 0 0 0 0 0 0 0 0 0 0 0 0 0 0 0 0 0 0 0 0 0 0 0 0\n",
      " 0 0 0 0 0 0 0 0 0 0 0 0 0 0 0 0 0 0 0 0 0 0 0 0 0 0 0 0 0 0 0 0 0 0 0 0 0\n",
      " 0 0 0 0 0 0 0 0 0 0 0 0 0 0 0 0 0 0 0 0 0 0 0 0 0 0 0 0 0 0 0 0 0 0 0 0 0\n",
      " 0 0 0 0 0 0 0 0 0 0 0 0 0 0 0 0 0 0 0 0 0 0 0 0 0 0 0 0 0 0 0 0 0 0 0 0 0\n",
      " 0 0 0 0 0 0 0 0 0 0 0 0 0 0 0] | Prob: (200, (0.99087948, 0.99290836), 0.99149978, 2.3623751e-07, 0.8191509762097292, 0.0755152582465426)\n",
      "DEBUG:rasco:L-shape: (41999, 79) \t U-shape: (49800, 79)\n",
      "DEBUG:rasco:Iter #5 time: 49.8943\n",
      "DEBUG:rasco:Best candidate: pred_class=[0 0 0 0 0 0 0 0 0 0 0 0 0 0 0 0 0 0 0 0 0 0 0 0 0 0 0 0 0 0 0 0 0 0 0 0 0\n",
      " 0 0 0 0 0 0 0 0 0 0 0 0 0 0 0 0 0 0 0 0 0 0 0 0 0 0 0 0 0 0 0 0 0 0 0 0 0\n",
      " 0 0 0 0 0 0 0 0 0 0 0 0 0 0 0 0 0 0 0 0 0 0 0 0 0 0 0 0 0 0 0 0 0 0 0 0 0\n",
      " 0 0 0 0 0 0 0 0 0 0 0 0 0 0 0 0 0 0 0 0 0 0 0 0 0 0 0 0 0 0 0 0 0 0 0 0 0\n",
      " 0 0 0 0 0 0 0 0 0 0 0 0 0 0 0 0 0 0 0 0 0 0 0 0 0 0 0 0 0 0 0 0 0 0 0 0 0\n",
      " 0 0 0 0 0 0 0 0 0 0 0 0 0 0 0] | Prob: (200, (0.99038738, 0.991669), 0.99084944, 8.7479094e-08, 0.3515972912559285, -0.7037700828271936)\n",
      "DEBUG:rasco:L-shape: (42199, 79) \t U-shape: (49600, 79)\n",
      "DEBUG:rasco:Iter #6 time: 50.0635\n",
      "DEBUG:rasco:Best candidate: pred_class=[0 0 0 0 0 0 0 0 0 0 0 0 0 0 0 0 0 0 0 0 0 0 0 0 0 0 0 0 0 0 0 0 0 0 0 0 0\n",
      " 0 0 0 0 0 0 0 0 0 0 0 0 0 0 0 0 0 0 0 0 0 0 0 0 0 0 0 0 0 0 0 0 0 0 0 0 0\n",
      " 0 0 0 0 0 0 0 0 0 0 0 0 0 0 0 0 0 0 0 0 0 0 0 0 0 0 0 0 0 0 0 0 0 0 0 0 0\n",
      " 0 0 0 0 0 0 0 0 0 0 0 0 0 0 0 0 0 0 0 0 0 0 0 0 0 0 0 0 0 0 0 0 0 0 0 0 0\n",
      " 0 0 0 0 0 0 0 0 0 0 0 0 0 0 0 0 0 0 0 0 0 0 0 0 0 0 0 0 0 0 0 0 0 0 0 0 0\n",
      " 0 0 0 0 0 0 0 0 0 0 0 0 0 0 0] | Prob: (200, (0.98975688, 0.99102986), 0.99015975, 8.7796963e-08, 0.7218216208560382, -0.1078243466293225)\n",
      "DEBUG:rasco:L-shape: (42399, 79) \t U-shape: (49400, 79)\n",
      "DEBUG:rasco:Iter #7 time: 50.2303\n",
      "DEBUG:rasco:Best candidate: pred_class=[0 0 0 0 0 0 0 0 0 0 0 0 0 0 0 0 0 0 0 0 0 0 0 0 0 0 0 0 0 0 0 0 0 0 0 0 0\n",
      " 0 0 0 0 0 0 0 0 0 0 0 0 0 0 0 0 0 0 0 0 0 0 0 0 0 0 0 0 0 0 0 0 0 0 0 0 0\n",
      " 0 0 0 0 0 0 0 0 0 0 0 0 0 0 0 0 0 0 0 0 0 0 0 0 0 0 0 0 0 0 0 0 0 0 0 0 0\n",
      " 0 0 0 0 0 0 0 0 0 0 0 0 0 0 0 0 0 0 0 0 0 0 0 0 0 0 0 0 0 0 0 0 0 0 0 0 0\n",
      " 0 0 0 0 0 0 0 0 0 0 0 0 0 0 0 0 0 0 0 0 0 0 0 0 0 0 0 0 0 0 0 0 0 0 0 0 0\n",
      " 0 0 0 0 0 0 0 0 0 0 0 0 0 0 0] | Prob: (200, (0.98988199, 0.99138749), 0.99030375, 9.0175e-08, 0.7187885149682913, 0.2243699629632725)\n",
      "DEBUG:rasco:L-shape: (42599, 79) \t U-shape: (49200, 79)\n",
      "DEBUG:rasco:Iter #8 time: 50.4736\n",
      "DEBUG:rasco:Best candidate: pred_class=[0 0 0 0 0 0 0 0 0 0 0 0 0 0 0 0 0 0 0 0 0 0 0 0 0 0 0 0 0 0 0 0 0 0 0 0 0\n",
      " 0 0 0 0 0 0 0 0 0 0 0 0 0 0 0 0 0 0 0 0 0 0 0 0 0 0 0 0 0 0 0 0 0 0 0 0 0\n",
      " 0 0 0 0 0 0 0 0 0 0 0 0 0 0 0 0 0 0 0 0 0 0 0 0 0 0 0 0 0 0 0 0 0 0 0 0 0\n",
      " 0 0 0 0 0 0 0 0 0 0 0 0 0 0 0 0 0 0 0 0 0 0 0 0 0 0 0 0 0 0 0 0 0 0 0 0 0\n",
      " 0 0 0 0 0 0 0 0 0 0 0 0 0 0 0 0 0 0 0 0 0 0 0 0 0 0 0 0 0 0 0 0 0 0 0 0 0\n",
      " 0 0 0 0 0 0 0 0 0 0 0 0 0 0 0] | Prob: (200, (0.98951352, 0.99120337), 0.9898712, 7.7867035e-08, 1.3024922063683344, 2.5014000128176503)\n",
      "DEBUG:rasco:L-shape: (42799, 79) \t U-shape: (49000, 79)\n",
      "DEBUG:rasco:Iter #9 time: 50.4829\n",
      "DEBUG:rasco:Total time: 496.18\n",
      "DEBUG:stacker:\tTime fit:\t\t1986.75 s\n",
      "DEBUG:stacker:\tTime predict:\t\t1.60931 s\n",
      "DEBUG:stacker:[<keras.wrappers.scikit_learn.KerasRegressor object at 0x7f68ababe510>]\n",
      "DEBUG:stacker:\tTime fit:\t\t276.734 s\n",
      "DEBUG:stacker:\tTime predict:\t\t0.013098 s\n",
      "DEBUG:stacker:===[Fit & predict fold 1 for base models]===\n",
      "DEBUG:stacker:[XGBRegressor]\n",
      "DEBUG:stacker:\tTime fit:\t\t78.834 s\n",
      "DEBUG:stacker:\tTime predict:\t\t0.395456 s\n",
      "DEBUG:stacker:[RandomForestRegressor]\n",
      "DEBUG:stacker:\tTime fit:\t\t4.81556 s\n",
      "DEBUG:stacker:\tTime predict:\t\t0.255527 s\n",
      "DEBUG:stacker:[LinearRegression]\n",
      "DEBUG:stacker:\tTime fit:\t\t0.461308 s\n",
      "DEBUG:stacker:\tTime predict:\t\t0.00156498 s\n",
      "DEBUG:stacker:[SimpleOrdinalClassifier]\n",
      "DEBUG:stacker:\tX data: X_all\n",
      "DEBUG:stacker:\ty data: y_binned_all\n",
      "DEBUG:rasco:Best candidate: pred_class=[1 1 1 1 1 1 1 1 1 1 1 1 1 1 1 1 1 1 1 1 1 1 1 1 1 1 1 1 1 1 1 1 1 1 1 1 1\n",
      " 1 1 1 1 1 1 1 1 1 1 1 1 1 1 1 1 1 1 1 1 1 1 1 1 1 1 1 1 1 1 1 1 1 1 1 1 1\n",
      " 1 1 1 1 1 1 1 1 1 1 1 1 1 1 1 1 1 1 1 1 1 1 1 1 1 1 1 1 1 1 1 1 1 1 1 1 1\n",
      " 1 1 1 1 1 1 1 1 1 1 1 1 1 1 1 1 1 1 1 1 1 1 1 1 1 1 1 1 1 1 1 1 1 1 1 1 1\n",
      " 1 1 1 1 1 1 1 1 1 1 1 1 1 1 1 1 1 1 1 1 1 1 1 1 1 1 1 1 1 1 1 1 1 1 1 1 1\n",
      " 1 1 1 1 1 1 1 1 1 1 1 1 1 1 1] | Prob: (200, (0.81074548, 0.86824745), 0.8257181, 0.00016183818, 1.1547585084705232, 0.9036673796143218)\n",
      "DEBUG:rasco:L-shape: (40999, 79) \t U-shape: (50800, 79)\n",
      "DEBUG:rasco:Iter #0 time: 59.6132\n",
      "DEBUG:rasco:Best candidate: pred_class=[1 1 1 1 1 1 1 1 1 1 1 1 1 1 1 1 1 1 1 1 1 1 1 1 1 1 1 1 1 1 1 1 1 1 1 1 1\n",
      " 1 1 1 1 1 1 1 1 1 1 1 1 1 1 1 1 1 1 1 1 1 1 1 1 1 1 1 1 1 1 1 1 1 1 1 1 1\n",
      " 1 1 1 1 1 1 1 1 1 1 1 1 1 1 1 1 1 1 1 1 1 1 1 1 1 1 1 1 1 1 1 1 1 1 1 1 1\n",
      " 1 1 1 1 1 1 1 1 1 1 1 1 1 1 1 1 1 1 1 1 1 1 1 1 1 1 1 1 1 1 1 1 1 1 1 1 1\n",
      " 1 1 1 1 1 1 1 1 1 1 1 1 1 1 1 1 1 1 1 1 1 1 1 1 1 1 1 1 1 1 1 1 1 1 1 1 1\n",
      " 1 1 1 1 1 1 1 1 1 1 1 1 1 1 1] | Prob: (200, (0.80975199, 0.83757931), 0.81953269, 4.2367876e-05, 0.6581074032148181, -0.1536366080629854)\n",
      "DEBUG:rasco:L-shape: (41199, 79) \t U-shape: (50600, 79)\n",
      "DEBUG:rasco:Iter #1 time: 58.0098\n"
     ]
    }
   ],
   "source": [
    "%pdb off\n",
    "stack.fit(X_train, y_train)"
   ]
  },
  {
   "cell_type": "markdown",
   "metadata": {},
   "source": [
    "# PREDICTION"
   ]
  },
  {
   "cell_type": "code",
   "execution_count": null,
   "metadata": {
    "collapsed": true
   },
   "outputs": [],
   "source": [
    "y_pred_test = stack.predict(X_test)"
   ]
  },
  {
   "cell_type": "code",
   "execution_count": null,
   "metadata": {
    "collapsed": false
   },
   "outputs": [],
   "source": [
    "plt.hist(y_pred_test, alpha=0.8)\n",
    "plt.hist(y_train, alpha=0.3)"
   ]
  },
  {
   "cell_type": "markdown",
   "metadata": {},
   "source": [
    "# SUBMISSION"
   ]
  },
  {
   "cell_type": "code",
   "execution_count": null,
   "metadata": {
    "collapsed": true
   },
   "outputs": [],
   "source": [
    "preds_pd = pd.DataFrame({\"Id\": test_ind, \"Hazard\": y_pred_test})\n",
    "preds_pd = preds_pd.set_index('Id')\n",
    "preds_pd.to_csv('submissions/give_up.csv')"
   ]
  },
  {
   "cell_type": "markdown",
   "metadata": {
    "collapsed": true
   },
   "source": [
    "# MOAR SANDBOXING"
   ]
  },
  {
   "cell_type": "code",
   "execution_count": 52,
   "metadata": {
    "collapsed": false
   },
   "outputs": [
    {
     "name": "stderr",
     "output_type": "stream",
     "text": [
      "Will train until val error hasn't decreased in 100 rounds.\n",
      "Stopping. Best iteration:\n",
      "[217]\ttrain-error:0.194523\tval-error:0.201035\n",
      "\n",
      "Will train until val error hasn't decreased in 100 rounds.\n",
      "Stopping. Best iteration:\n",
      "[68]\ttrain-error:0.200506\tval-error:0.203387\n",
      "\n"
     ]
    },
    {
     "name": "stdout",
     "output_type": "stream",
     "text": [
      "xgb: 0.383455332761\n",
      "compare: 0.66955245128\n",
      "xgb:"
     ]
    },
    {
     "name": "stderr",
     "output_type": "stream",
     "text": [
      "Will train until val error hasn't decreased in 100 rounds.\n",
      "Stopping. Best iteration:\n",
      "[173]\ttrain-error:0.195729\tval-error:0.202321\n",
      "\n"
     ]
    },
    {
     "name": "stdout",
     "output_type": "stream",
     "text": [
      " 0.351025279465\n",
      "compare: 0.665826502033\n",
      "xgb:"
     ]
    },
    {
     "name": "stderr",
     "output_type": "stream",
     "text": [
      "Will train until val error hasn't decreased in 100 rounds.\n",
      "Stopping. Best iteration:\n",
      "[255]\ttrain-error:0.194339\tval-error:0.197930\n",
      "\n"
     ]
    },
    {
     "name": "stdout",
     "output_type": "stream",
     "text": [
      " 0.366665841733\n",
      "compare: 0.676121613729\n",
      "xgb:"
     ]
    },
    {
     "name": "stderr",
     "output_type": "stream",
     "text": [
      "Will train until val error hasn't decreased in 100 rounds.\n",
      "Stopping. Best iteration:\n",
      "[286]\ttrain-error:0.193532\tval-error:0.198400\n",
      "\n"
     ]
    },
    {
     "name": "stdout",
     "output_type": "stream",
     "text": [
      " 0.38819598263\n",
      "compare: 0.681739379983\n",
      "xgb:"
     ]
    },
    {
     "name": "stderr",
     "output_type": "stream",
     "text": [
      "Will train until val error hasn't decreased in 100 rounds.\n",
      "Stopping. Best iteration:\n",
      "[32]\ttrain-error:0.202348\tval-error:0.203201\n",
      "\n"
     ]
    },
    {
     "name": "stdout",
     "output_type": "stream",
     "text": [
      " 0.363570025434\n",
      "compare: 0.674246917105\n",
      "xgb:"
     ]
    },
    {
     "name": "stderr",
     "output_type": "stream",
     "text": [
      "Will train until val error hasn't decreased in 100 rounds.\n",
      "Stopping. Best iteration:\n",
      "[2]\ttrain-error:0.201358\tval-error:0.205744\n",
      "\n"
     ]
    },
    {
     "name": "stdout",
     "output_type": "stream",
     "text": [
      " 0.365592359058\n",
      "compare: 0.673994123422\n",
      "xgb:"
     ]
    },
    {
     "name": "stderr",
     "output_type": "stream",
     "text": [
      "Will train until val error hasn't decreased in 100 rounds.\n",
      "Stopping. Best iteration:\n",
      "[339]\ttrain-error:0.191902\tval-error:0.202291\n",
      "\n"
     ]
    },
    {
     "name": "stdout",
     "output_type": "stream",
     "text": [
      " 0.378550003724\n",
      "compare: 0.67131354438\n",
      "xgb: 0.394293036864\n",
      "compare: 0.677817610001\n"
     ]
    }
   ],
   "source": [
    "params = {}\n",
    "params[\"objective\"] = \"binary:logistic\"\n",
    "params[\"eta\"] = 0.05\n",
    "params[\"min_child_weight\"] = 6\n",
    "params[\"subsample\"] = 0.7\n",
    "params[\"colsample_bytree\"] = 0.7\n",
    "# params[\"max_delta_step\"] = 1\n",
    "params[\"silent\"] = 1\n",
    "params[\"max_depth\"] = 5\n",
    "# params[\"scale_pos_weight\"] = 1.0\n",
    "# params[\"gamma\"] = 0\n",
    "\n",
    "plst = list(params.items())\n",
    "\n",
    "max_rounds = 5000\n",
    "\n",
    "skf = StratifiedKFold(y_binned, n_folds=8,\n",
    "                      shuffle=True,\n",
    "                      random_state=np.random.randint(0,100))\n",
    "qq_scores = []\n",
    "for train, valid in skf:\n",
    "    X_train_k = X_train[train]\n",
    "    X_valid_k = X_train[valid]    \n",
    "    y_train_k = y_binned[train] > 3\n",
    "    y_valid_k = y_binned[valid] > 3\n",
    "    \n",
    "    y_valid_k_orig = y_train_orig[valid]\n",
    "\n",
    "\n",
    "    #create a train and validation dmatrices \n",
    "    xgtrain = xgb.DMatrix(X_train_k, label=y_train_k)\n",
    "    xgval = xgb.DMatrix(X_valid_k, label=y_valid_k)\n",
    "\n",
    "    #train using early stopping and predict\n",
    "    watchlist = [(xgtrain, 'train'),(xgval, 'val')]\n",
    "    model = xgb.train(plst, xgtrain, max_rounds, watchlist, \n",
    "                      early_stopping_rounds=100,\n",
    "                      verbose_eval=False)\n",
    "\n",
    "    preds_val = model.predict(xgval)\n",
    "\n",
    "    s = metrics.normalized_gini(y_valid_k_orig, preds_val)\n",
    "    compare = metrics.normalized_gini(y_valid_k_orig, y_valid_k)\n",
    "    print 'xgb:', s\n",
    "    print 'compare:', compare\n",
    "    qq_scores.append(s)\n",
    "    \n",
    "#     break"
   ]
  },
  {
   "cell_type": "code",
   "execution_count": 32,
   "metadata": {
    "collapsed": false
   },
   "outputs": [
    {
     "data": {
      "text/plain": [
       "array([1, 2, 3, 4, 5])"
      ]
     },
     "execution_count": 32,
     "metadata": {},
     "output_type": "execute_result"
    }
   ],
   "source": [
    "150 iter\n",
    "\n",
    "xgb: 0.349063528672\n",
    "\n",
    "    xgb: 0.348477999514\n",
    "d3\n",
    "        xgb: 0.359185167985"
   ]
  },
  {
   "cell_type": "markdown",
   "metadata": {},
   "source": [
    "# More CV Sandbox"
   ]
  },
  {
   "cell_type": "code",
   "execution_count": 121,
   "metadata": {
    "collapsed": true
   },
   "outputs": [
    {
     "name": "stderr",
     "output_type": "stream",
     "text": [
      "INFO:rasco:RASCO Init\n",
      "DEBUG:rasco:Best candidate: pred_class=[1 1 1 1 1 1 1 1 1 1 1 1 1 1 1 1 1 1 1 1 1 1 1 1 1 1 1 1 1 1 1 1 1 1 1 1 1\n",
      " 1 1 1 1 1 1 1 1 1 1 1 1 1 1 1 1 1 1 1 1 1 1 1 1 1 1 1 1 1 1 1 1 1 1 1 1 1\n",
      " 1 1 1 1 1 1 1 1 1 1 1 1 1 1 1 1 1 1 1 1 1 1 1 1 1 1] | Prob: (100, (0.82662004, 0.87535834), 0.83903646, 0.00011442679, 1.1383524693870781, 0.9051935558129394)\n",
      "DEBUG:rasco:L-shape: (34098, 79) \t U-shape: (50900, 79)\n",
      "DEBUG:rasco:Iter #0 time: 81.6941\n",
      "DEBUG:rasco:Best candidate: pred_class=[1 1 1 1 1 1 1 1 1 1 1 1 1 1 1 1 1 1 1 1 1 1 1 1 1 1 1 1 1 1 1 1 1 1 1 1 1\n",
      " 1 1 1 1 1 1 1 1 1 1 1 1 1 1 1 1 1 1 1 1 1 1 1 1 1 1 1 1 1 1 1 1 1 1 1 1 1\n",
      " 1 1 1 1 1 1 1 1 1 1 1 1 1 1 1 1 1 1 1 1 1 1 1 1 1 1] | Prob: (100, (0.82104379, 0.85152328), 0.82902962, 3.6760011e-05, 0.9190436389757458, 0.5595329089297025)\n",
      "DEBUG:rasco:L-shape: (34198, 79) \t U-shape: (50800, 79)\n",
      "DEBUG:rasco:Iter #1 time: 82.0159\n",
      "DEBUG:rasco:Best candidate: pred_class=[1 1 1 1 1 1 1 1 1 1 1 1 1 1 1 1 1 1 1 1 1 1 1 1 1 1 1 1 1 1 1 1 1 1 1 1 1\n",
      " 1 1 1 1 1 1 1 1 1 1 1 1 1 1 1 1 1 1 1 1 1 1 1 1 1 1 1 1 1 1 1 1 1 1 1 1 1\n",
      " 1 1 1 1 1 1 1 1 1 1 1 1 1 1 1 1 1 1 1 1 1 1 1 1 1 1] | Prob: (100, (0.81994259, 0.83525819), 0.82557654, 1.7493921e-05, 0.5525298477710594, -0.6316941845781874)\n",
      "DEBUG:rasco:L-shape: (34298, 79) \t U-shape: (50700, 79)\n",
      "DEBUG:rasco:Iter #2 time: 82.4686\n",
      "DEBUG:rasco:Best candidate: pred_class=[1 1 1 1 1 1 1 1 1 1 1 1 1 1 1 1 1 1 1 1 1 1 1 1 1 1 1 1 1 1 1 1 1 1 1 1 1\n",
      " 1 1 1 1 1 1 1 1 1 1 1 1 1 1 1 1 1 1 1 1 1 1 1 1 1 1 1 1 1 1 1 1 1 1 1 1 1\n",
      " 1 1 1 1 1 1 1 1 1 1 1 1 1 1 1 1 1 1 1 1 1 1 1 1 1 1] | Prob: (100, (0.81745338, 0.83331877), 0.82213557, 1.3135217e-05, 0.8965213246554327, 0.16118474465103017)\n",
      "DEBUG:rasco:L-shape: (34398, 79) \t U-shape: (50600, 79)\n",
      "DEBUG:rasco:Iter #3 time: 82.627\n",
      "DEBUG:rasco:Best candidate: pred_class=[1 1 1 1 1 1 1 1 1 1 1 1 1 1 1 1 1 1 1 1 1 1 1 1 1 1 1 1 1 1 1 1 1 1 1 1 1\n",
      " 1 1 1 1 1 1 1 1 1 1 1 1 1 1 1 1 1 1 1 1 1 1 1 1 1 1 1 1 1 1 1 1 1 1 1 1 1\n",
      " 1 1 1 1 1 1 1 1 1 1 1 1 1 1 1 1 1 1 1 1 1 1 1 1 1 1] | Prob: (100, (0.81801665, 0.83268851), 0.82239842, 9.6575259e-06, 0.7996353827921433, 0.6052461593860916)\n",
      "DEBUG:rasco:L-shape: (34498, 79) \t U-shape: (50500, 79)\n",
      "DEBUG:rasco:Iter #4 time: 82.5277\n",
      "DEBUG:rasco:Best candidate: pred_class=[1 1 1 1 1 1 1 1 1 1 1 1 1 1 1 1 1 1 1 1 1 1 1 1 1 1 1 1 1 1 1 1 1 1 1 1 1\n",
      " 1 1 1 1 1 1 1 1 1 1 1 1 1 1 1 1 1 1 1 1 1 1 1 1 1 1 1 1 1 1 1 1 1 1 1 1 1\n",
      " 1 1 1 1 1 1 1 1 1 1 1 1 1 1 1 1 1 1 1 1 1 1 1 1 1 1] | Prob: (100, (0.81804425, 0.83200288), 0.82314932, 1.145326e-05, 0.4395690429136584, -0.5663044235192594)\n",
      "DEBUG:rasco:L-shape: (34598, 79) \t U-shape: (50400, 79)\n",
      "DEBUG:rasco:Iter #5 time: 83.0575\n",
      "DEBUG:rasco:Best candidate: pred_class=[1 1 1 1 1 1 1 1 1 1 1 1 1 1 1 1 1 1 1 1 1 1 1 1 1 1 1 1 1 1 1 1 1 1 1 1 1\n",
      " 1 1 1 1 1 1 1 1 1 1 1 1 1 1 1 1 1 1 1 1 1 1 1 1 1 1 1 1 1 1 1 1 1 1 1 1 1\n",
      " 1 1 1 1 1 1 1 1 1 1 1 1 1 1 1 1 1 1 1 1 1 1 1 1 1 1] | Prob: (100, (0.81773037, 0.83319008), 0.82256973, 1.3486006e-05, 0.7940337642588767, -0.10766103798271232)\n",
      "DEBUG:rasco:L-shape: (34698, 79) \t U-shape: (50300, 79)\n",
      "DEBUG:rasco:Iter #6 time: 83.0328\n",
      "DEBUG:rasco:Best candidate: pred_class=[1 1 1 1 1 1 1 1 1 1 1 1 1 1 1 1 1 1 1 1 1 1 1 1 1 1 1 1 1 1 1 1 1 1 1 1 1\n",
      " 1 1 1 1 1 1 1 1 1 1 1 1 1 1 1 1 1 1 1 1 1 1 1 1 1 1 1 1 1 1 1 1 1 1 1 1 1\n",
      " 1 1 1 1 1 1 1 1 1 1 1 1 1 1 1 1 1 1 1 1 1 1 1 1 1 1] | Prob: (100, (0.81638467, 0.8370021), 0.82061911, 1.2603182e-05, 1.6181720380656568, 3.7011020941387667)\n",
      "DEBUG:rasco:L-shape: (34798, 79) \t U-shape: (50200, 79)\n",
      "DEBUG:rasco:Iter #7 time: 83.5718\n",
      "DEBUG:rasco:Best candidate: pred_class=[1 1 1 1 1 1 1 1 1 1 1 1 1 1 1 1 1 1 1 1 1 1 1 1 1 1 1 1 1 1 1 1 1 1 1 1 1\n",
      " 1 1 1 1 1 1 1 1 1 1 1 1 1 1 1 1 1 1 1 1 1 1 1 1 1 1 1 1 1 1 1 1 1 1 1 1 1\n",
      " 1 1 1 1 1 1 1 1 1 1 1 1 1 1 1 1 1 1 1 1 1 1 1 1 1 1] | Prob: (100, (0.81530386, 0.82861823), 0.82007873, 1.2803489e-05, 0.7144356060107807, -0.544160221642668)\n",
      "DEBUG:rasco:L-shape: (34898, 79) \t U-shape: (50100, 79)\n",
      "DEBUG:rasco:Iter #8 time: 83.7399\n",
      "DEBUG:rasco:Best candidate: pred_class=[1 1 1 1 1 1 1 1 1 1 1 1 1 1 1 1 1 1 1 1 1 1 1 1 1 1 1 1 1 1 1 1 1 1 1 1 1\n",
      " 1 1 1 1 1 1 1 1 1 1 1 1 1 1 1 1 1 1 1 1 1 1 1 1 1 1 1 1 1 1 1 1 1 1 1 1 1\n",
      " 1 1 1 1 1 1 1 1 1 1 1 1 1 1 1 1 1 1 1 1 1 1 1 1 1 1] | Prob: (100, (0.81546307, 0.83115655), 0.82063121, 1.5261216e-05, 0.7044985764842878, -0.0950815362245443)\n",
      "DEBUG:rasco:L-shape: (34998, 79) \t U-shape: (50000, 79)\n",
      "DEBUG:rasco:Iter #9 time: 83.9668\n",
      "DEBUG:rasco:Total time: 828.707\n",
      "DEBUG:rasco:Best candidate: pred_class=[1 1 0 1 0 0 0 1 0 0 0 0 1 0 1 0 0 0 0 0 0 1 1 0 0 0 0 0 0 0 1 1 0 0 1 0 0\n",
      " 0 0 0 0 0 0 0 0 0 0 0 0 0 0 0 0 0 0 0 0 0 0 0 1 1 0 0 0 0 0 0 0 0 1 0 1 1\n",
      " 0 0 0 0 0 0 0 0 0 1 0 0 0 0 0 0 0 1 0 0 0 1 0 0 0 1] | Prob: (100, (0.78012252, 0.84041953), 0.79302657, 0.00011910693, 1.6324380708883628, 4.039619378938273)\n",
      "DEBUG:rasco:L-shape: (34098, 79) \t U-shape: (50900, 79)\n",
      "DEBUG:rasco:Iter #0 time: 81.7381\n",
      "DEBUG:rasco:Best candidate: pred_class=[0 0 0 0 0 0 0 0 0 0 0 0 0 0 0 0 0 0 0 0 0 0 0 0 0 0 0 0 0 0 0 0 0 0 0 0 0\n",
      " 0 0 0 0 0 1 0 0 0 0 0 0 0 0 0 0 0 0 0 0 0 1 0 0 0 0 0 0 0 1 0 0 0 0 0 0 0\n",
      " 0 0 0 0 0 0 0 0 0 1 0 0 0 0 0 0 0 0 0 0 1 0 0 0 0 0] | Prob: (100, (0.78626704, 0.82619184), 0.79945654, 0.00010646478, 0.6710210581398214, -0.5360593649805976)\n",
      "DEBUG:rasco:L-shape: (34198, 79) \t U-shape: (50800, 79)\n",
      "DEBUG:rasco:Iter #1 time: 81.7951\n",
      "DEBUG:rasco:Best candidate: pred_class=[0 0 0 0 0 0 0 0 0 0 0 0 0 0 0 0 0 0 0 0 0 0 0 0 0 0 0 0 0 0 0 0 0 0 0 0 0\n",
      " 0 0 0 0 0 0 0 0 0 0 0 0 0 0 0 0 0 0 0 0 0 0 0 0 0 0 0 0 0 0 0 0 0 0 0 0 0\n",
      " 0 0 0 0 0 0 0 0 0 0 0 0 0 0 0 0 0 0 0 0 0 0 0 0 0 0] | Prob: (100, (0.79630238, 0.82943338), 0.80639547, 5.1687071e-05, 0.7498234100035683, 0.30137953542662554)\n",
      "DEBUG:rasco:L-shape: (34298, 79) \t U-shape: (50700, 79)\n",
      "DEBUG:rasco:Iter #2 time: 82.3941\n",
      "DEBUG:rasco:Best candidate: pred_class=[0 0 0 0 0 0 0 0 0 0 0 0 0 0 0 0 0 0 0 0 0 0 0 0 0 0 0 0 0 0 0 0 0 0 0 0 0\n",
      " 0 0 0 0 0 0 0 0 0 0 0 0 0 0 0 0 0 0 0 0 0 0 0 0 0 0 0 0 0 0 0 0 0 0 0 0 0\n",
      " 0 0 0 0 0 0 0 0 0 0 0 0 0 0 0 0 0 0 0 0 0 0 0 0 0 0] | Prob: (100, (0.80344939, 0.83115166), 0.81518149, 6.0762006e-05, 0.21388433790942882, -1.0537214300000697)\n",
      "DEBUG:rasco:L-shape: (34398, 79) \t U-shape: (50600, 79)\n",
      "DEBUG:rasco:Iter #3 time: 82.2732\n",
      "DEBUG:rasco:Best candidate: pred_class=[0 0 0 0 0 0 0 0 0 0 0 0 0 0 0 0 0 0 0 0 0 0 0 0 0 0 0 0 0 0 0 0 0 0 0 0 0\n",
      " 0 0 0 0 0 0 0 0 0 0 0 0 0 0 0 0 0 0 0 0 0 0 0 0 0 0 0 0 0 0 0 0 0 0 0 0 0\n",
      " 0 0 0 0 0 0 0 0 0 0 0 0 0 0 0 0 0 0 0 0 0 0 0 0 0 0] | Prob: (100, (0.80396748, 0.8467074), 0.81670249, 9.656803e-05, 0.7314337837416653, -0.17024186553514964)\n",
      "DEBUG:rasco:L-shape: (34498, 79) \t U-shape: (50500, 79)\n",
      "DEBUG:rasco:Iter #4 time: 82.3434\n",
      "DEBUG:rasco:Best candidate: pred_class=[0 0 0 0 0 0 0 0 0 0 0 0 0 0 0 0 0 0 0 0 0 0 0 0 0 0 0 0 0 0 0 0 0 0 0 0 0\n",
      " 0 0 0 0 0 0 0 0 0 0 0 0 0 0 0 0 0 0 0 0 0 0 0 0 0 0 0 0 0 0 0 0 0 0 0 0 0\n",
      " 0 0 0 0 0 0 0 0 0 0 0 0 0 0 0 0 0 0 0 0 0 0 0 0 0 0] | Prob: (100, (0.80289483, 0.83644366), 0.81612986, 7.0317736e-05, 0.32747698245899604, -0.7989339902213533)\n",
      "DEBUG:rasco:L-shape: (34598, 79) \t U-shape: (50400, 79)\n",
      "DEBUG:rasco:Iter #5 time: 82.7011\n",
      "DEBUG:rasco:Best candidate: pred_class=[0 0 0 0 0 0 0 0 0 0 0 0 0 0 0 0 0 0 0 0 0 0 0 0 0 0 0 0 0 0 0 0 0 0 0 0 0\n",
      " 0 0 0 0 0 0 0 0 0 0 0 0 0 0 0 0 0 0 0 0 0 0 0 0 0 0 0 0 0 0 0 0 0 0 0 0 0\n",
      " 0 0 0 0 0 0 0 0 0 0 0 0 0 0 0 0 0 0 0 0 0 0 0 0 0 0] | Prob: (100, (0.79383314, 0.83755177), 0.80735815, 0.00010957332, 0.9068897747251868, 0.0211817908364611)\n",
      "DEBUG:rasco:L-shape: (34698, 79) \t U-shape: (50300, 79)\n",
      "DEBUG:rasco:Iter #6 time: 82.9903\n",
      "DEBUG:rasco:Best candidate: pred_class=[0 0 0 0 0 0 0 0 0 0 0 0 0 0 0 0 0 0 0 0 0 0 0 0 0 0 0 0 0 0 0 0 0 0 0 0 0\n",
      " 0 0 0 0 0 0 0 0 0 0 0 0 0 0 0 0 0 0 0 0 0 0 0 0 0 0 0 0 0 0 0 0 0 0 0 0 0\n",
      " 0 0 0 0 0 0 0 0 0 0 0 0 0 0 0 0 0 0 0 0 0 0 0 0 0 0] | Prob: (100, (0.79687494, 0.82047069), 0.80554748, 3.26831e-05, 0.3683655645967198, -0.6319003114553454)\n",
      "DEBUG:rasco:L-shape: (34798, 79) \t U-shape: (50200, 79)\n",
      "DEBUG:rasco:Iter #7 time: 83.4238\n",
      "DEBUG:rasco:Best candidate: pred_class=[0 0 0 0 0 0 0 0 0 0 0 0 0 0 0 0 0 0 0 0 0 0 0 0 0 0 0 0 0 0 0 0 0 0 0 0 0\n",
      " 0 0 0 0 0 0 0 0 0 0 0 0 0 0 0 0 0 0 0 0 0 0 0 0 0 0 0 0 0 0 0 0 0 0 0 0 0\n",
      " 0 0 0 0 0 0 0 0 0 0 0 0 0 0 0 0 0 0 0 0 0 0 0 0 0 0] | Prob: (100, (0.80287665, 0.83347476), 0.81767172, 7.9226418e-05, 0.02878615346991005, -1.228647018299387)\n",
      "DEBUG:rasco:L-shape: (34898, 79) \t U-shape: (50100, 79)\n",
      "DEBUG:rasco:Iter #8 time: 83.6346\n",
      "DEBUG:rasco:Best candidate: pred_class=[0 0 0 0 0 0 0 0 0 0 0 0 0 0 0 0 0 0 0 0 0 0 0 0 0 0 0 0 0 0 0 0 0 0 0 0 0\n",
      " 0 0 0 0 0 0 0 0 0 0 0 0 0 0 0 0 0 0 0 0 0 0 0 0 0 0 0 0 0 0 0 0 0 0 0 0 0\n",
      " 0 0 0 0 0 0 0 0 0 0 0 0 0 0 0 0 0 0 0 0 0 0 0 0 0 0] | Prob: (100, (0.79836369, 0.84492218), 0.81583923, 0.00012832311, 0.4342760208627103, -0.5887270182675461)\n",
      "DEBUG:rasco:L-shape: (34998, 79) \t U-shape: (50000, 79)\n",
      "DEBUG:rasco:Iter #9 time: 83.9293\n",
      "DEBUG:rasco:Total time: 827.228\n",
      "DEBUG:rasco:Best candidate: pred_class=[0 0 0 0 0 0 0 0 0 0 0 0 0 0 0 0 0 0 0 0 0 0 0 0 0 0 0 0 0 0 0 0 0 0 0 0 0\n",
      " 0 0 0 0 0 0 0 0 0 0 0 0 0 0 0 0 0 0 0 0 0 0 0 0 0 0 0 0 0 0 0 0 0 0 0 0 0\n",
      " 0 0 0 0 0 0 0 0 0 0 0 0 0 0 0 0 0 0 0 0 0 0 0 0 0 0] | Prob: (100, (0.953785, 0.96503931), 0.95692682, 6.565429e-06, 0.9881032922507377, 0.588055828133057)\n",
      "DEBUG:rasco:L-shape: (34098, 79) \t U-shape: (50900, 79)\n",
      "DEBUG:rasco:Iter #0 time: 81.2243\n",
      "DEBUG:rasco:Best candidate: pred_class=[0 0 0 0 0 0 0 0 0 0 0 0 0 0 0 0 0 0 0 0 0 0 0 0 0 0 0 0 0 0 0 0 0 0 0 0 0\n",
      " 0 0 0 0 0 0 0 0 0 0 0 0 0 0 0 0 0 0 0 0 0 0 0 0 0 0 0 0 0 0 0 0 0 0 0 0 0\n",
      " 0 0 0 0 0 0 0 0 0 0 0 0 0 0 0 0 0 0 0 0 0 0 0 0 0 0] | Prob: (100, (0.95598173, 0.96245098), 0.95852107, 2.7402627e-06, 0.22710263440361728, -0.9926499601821295)\n",
      "DEBUG:rasco:L-shape: (34198, 79) \t U-shape: (50800, 79)\n",
      "DEBUG:rasco:Iter #1 time: 81.8243\n",
      "DEBUG:rasco:Best candidate: pred_class=[0 0 0 0 0 0 0 0 0 0 0 0 0 0 0 0 0 0 0 0 0 0 0 0 0 0 0 0 0 0 0 0 0 0 0 0 0\n",
      " 0 0 0 0 0 0 0 0 0 0 0 0 0 0 0 0 0 0 0 0 0 0 0 0 0 0 0 0 0 0 0 0 0 0 0 0 0\n",
      " 0 0 0 0 0 0 0 0 0 0 0 0 0 0 0 0 0 0 0 0 0 0 0 0 0 0] | Prob: (100, (0.95640814, 0.96250701), 0.95919108, 2.3762584e-06, 0.16715122402409033, -0.9429684121452753)\n",
      "DEBUG:rasco:L-shape: (34298, 79) \t U-shape: (50700, 79)\n",
      "DEBUG:rasco:Iter #2 time: 81.8314\n",
      "DEBUG:rasco:Best candidate: pred_class=[0 0 0 0 0 0 0 0 0 0 0 0 0 0 0 0 0 0 0 0 0 0 0 0 0 0 0 0 0 0 0 0 0 0 0 0 0\n",
      " 0 0 0 0 0 0 0 0 0 0 0 0 0 0 0 0 0 0 0 0 0 0 0 0 0 0 0 0 0 0 0 0 0 0 0 0 0\n",
      " 0 0 0 0 0 0 0 0 0 0 0 0 0 0 0 0 0 0 0 0 0 0 0 0 0 0] | Prob: (100, (0.95710015, 0.96327728), 0.95945114, 2.4780147e-06, 0.4607942933542175, -0.6223933111961579)\n",
      "DEBUG:rasco:L-shape: (34398, 79) \t U-shape: (50600, 79)\n",
      "DEBUG:rasco:Iter #3 time: 82.4364\n",
      "DEBUG:rasco:Best candidate: pred_class=[0 0 0 0 0 0 0 0 0 0 0 0 0 0 0 0 0 0 0 0 0 0 0 0 0 0 0 0 0 0 0 0 0 0 0 0 0\n",
      " 0 0 0 0 0 0 0 0 0 0 0 0 0 0 0 0 0 0 0 0 0 0 0 0 0 0 0 0 0 0 0 0 0 0 0 0 0\n",
      " 0 0 0 0 0 0 0 0 0 0 0 0 0 0 0 0 0 0 0 0 0 0 0 0 0 0] | Prob: (100, (0.95517612, 0.96245599), 0.95804971, 3.4453358e-06, 0.33449771861843747, -0.8442674040014486)\n",
      "DEBUG:rasco:L-shape: (34498, 79) \t U-shape: (50500, 79)\n",
      "DEBUG:rasco:Iter #4 time: 82.3867\n",
      "DEBUG:rasco:Best candidate: pred_class=[0 0 0 0 0 0 0 0 0 0 0 0 0 0 0 0 0 0 0 0 0 0 0 0 0 0 0 0 0 0 0 0 0 0 0 0 0\n",
      " 0 0 0 0 0 0 0 0 0 0 0 0 0 0 0 0 0 0 0 0 0 0 0 0 0 0 0 0 0 0 0 0 0 0 0 0 0\n",
      " 0 0 0 0 0 0 0 0 0 0 0 0 0 0 0 0 0 0 0 0 0 0 0 0 0 0] | Prob: (100, (0.95463514, 0.96135467), 0.95688796, 2.6938737e-06, 0.8289868317631159, 0.14664611012806494)\n",
      "DEBUG:rasco:L-shape: (34598, 79) \t U-shape: (50400, 79)\n",
      "DEBUG:rasco:Iter #5 time: 82.7306\n",
      "DEBUG:rasco:Best candidate: pred_class=[0 0 0 0 0 0 0 0 0 0 0 0 0 0 0 0 0 0 0 0 0 0 0 0 0 0 0 0 0 0 0 0 0 0 0 0 0\n",
      " 0 0 0 0 0 0 0 0 0 0 0 0 0 0 0 0 0 0 0 0 0 0 0 0 0 0 0 0 0 0 0 0 0 0 0 0 0\n",
      " 0 0 0 0 0 0 0 0 0 0 0 0 0 0 0 0 0 0 0 0 0 0 0 0 0 0] | Prob: (100, (0.95366657, 0.96041417), 0.9557395, 1.8593799e-06, 0.7585791221936976, 0.482714207431556)\n",
      "DEBUG:rasco:L-shape: (34698, 79) \t U-shape: (50300, 79)\n",
      "DEBUG:rasco:Iter #6 time: 83.0417\n",
      "DEBUG:rasco:Best candidate: pred_class=[0 0 0 0 0 0 0 0 0 0 0 0 0 0 0 0 0 0 0 0 0 0 0 0 0 0 0 0 0 0 0 0 0 0 0 0 0\n",
      " 0 0 0 0 0 0 0 0 0 0 0 0 0 0 0 0 0 0 0 0 0 0 0 0 0 0 0 0 0 0 0 0 0 0 0 0 0\n",
      " 0 0 0 0 0 0 0 0 0 0 0 0 0 0 0 0 0 0 0 0 0 0 0 0 0 0] | Prob: (100, (0.95125622, 0.95867807), 0.95374352, 2.7545873e-06, 0.7175520716469856, -0.1564449256584588)\n",
      "DEBUG:rasco:L-shape: (34798, 79) \t U-shape: (50200, 79)\n",
      "DEBUG:rasco:Iter #7 time: 82.5583\n",
      "DEBUG:rasco:Best candidate: pred_class=[0 0 0 0 0 0 0 0 0 0 0 0 0 0 0 0 0 0 0 0 0 0 0 0 0 0 0 0 0 0 0 0 0 0 0 0 0\n",
      " 0 0 0 0 0 0 0 0 0 0 0 0 0 0 0 0 0 0 0 0 0 0 0 0 0 0 0 0 0 0 0 0 0 0 0 0 0\n",
      " 0 0 0 0 0 0 0 0 0 0 0 0 0 0 0 0 0 0 0 0 0 0 0 0 0 0] | Prob: (100, (0.9499898, 0.95808035), 0.95351416, 5.5054679e-06, 0.3504751640118116, -1.0156496671599906)\n",
      "DEBUG:rasco:L-shape: (34898, 79) \t U-shape: (50100, 79)\n",
      "DEBUG:rasco:Iter #8 time: 83.7317\n",
      "DEBUG:rasco:Best candidate: pred_class=[0 0 0 0 0 0 0 0 0 0 0 0 0 0 0 0 0 0 0 0 0 0 0 0 0 0 0 0 0 0 0 0 0 0 0 0 0\n",
      " 0 0 0 0 0 0 0 0 0 0 0 0 0 0 0 0 0 0 0 0 0 0 0 0 0 0 0 0 0 0 0 0 0 0 0 0 0\n",
      " 0 0 0 0 0 0 0 0 0 0 0 0 0 0 0 0 0 0 0 0 0 0 0 0 0 0] | Prob: (100, (0.94631392, 0.95542145), 0.94965011, 5.3856038e-06, 0.38599378083545194, -0.602483649042223)\n",
      "DEBUG:rasco:L-shape: (34998, 79) \t U-shape: (50000, 79)\n",
      "DEBUG:rasco:Iter #9 time: 83.4999\n",
      "DEBUG:rasco:Total time: 825.27\n",
      "DEBUG:rasco:Best candidate: pred_class=[0 0 0 0 0 0 0 0 0 0 0 0 0 0 0 0 0 0 0 0 0 0 0 0 0 0 0 0 0 0 0 0 0 0 0 0 0\n",
      " 0 0 0 0 0 0 0 0 0 0 0 0 0 0 0 0 0 0 0 0 0 0 0 0 0 0 0 0 0 0 0 0 0 0 0 0 0\n",
      " 0 0 0 0 0 0 0 0 0 0 0 0 0 0 0 0 0 0 0 0 0 0 0 0 0 0] | Prob: (100, (0.99321866, 0.99467403), 0.99369031, 1.5207576e-07, 0.7902714149790987, -0.556386243178093)\n",
      "DEBUG:rasco:L-shape: (34098, 79) \t U-shape: (50900, 79)\n",
      "DEBUG:rasco:Iter #0 time: 80.6423\n"
     ]
    },
    {
     "name": "stdout",
     "output_type": "stream",
     "text": [
      "Fold 0"
     ]
    },
    {
     "ename": "KeyboardInterrupt",
     "evalue": "",
     "output_type": "error",
     "traceback": [
      "\u001b[1;31m---------------------------------------------------------------------------\u001b[0m",
      "\u001b[1;31mKeyboardInterrupt\u001b[0m                         Traceback (most recent call last)",
      "\u001b[1;32m<ipython-input-121-c2413e6bdf1d>\u001b[0m in \u001b[0;36m<module>\u001b[1;34m()\u001b[0m\n\u001b[0;32m     36\u001b[0m \u001b[1;33m\u001b[0m\u001b[0m\n\u001b[0;32m     37\u001b[0m         \u001b[1;32mfor\u001b[0m \u001b[0mclf\u001b[0m \u001b[1;32min\u001b[0m \u001b[0mclfs\u001b[0m\u001b[1;33m:\u001b[0m\u001b[1;33m\u001b[0m\u001b[0m\n\u001b[1;32m---> 38\u001b[1;33m             \u001b[0mclf\u001b[0m\u001b[1;33m.\u001b[0m\u001b[0mfit\u001b[0m\u001b[1;33m(\u001b[0m\u001b[0mX_all\u001b[0m\u001b[1;33m,\u001b[0m \u001b[0my_binned_all\u001b[0m\u001b[1;33m-\u001b[0m\u001b[1;36m1\u001b[0m\u001b[1;33m)\u001b[0m\u001b[1;33m\u001b[0m\u001b[0m\n\u001b[0m\u001b[0;32m     39\u001b[0m \u001b[1;31m#             clf.fit(X_train_k, y_train_binned_k-1)\u001b[0m\u001b[1;33m\u001b[0m\u001b[1;33m\u001b[0m\u001b[0m\n\u001b[0;32m     40\u001b[0m \u001b[1;33m\u001b[0m\u001b[0m\n",
      "\u001b[1;32m/afs/ee.cooper.edu/user/t/a/tam8/documents/ml_misc/ordinal/simple.py\u001b[0m in \u001b[0;36mfit\u001b[1;34m(self, X, y, **fit_params)\u001b[0m\n\u001b[0;32m     98\u001b[0m                                      \u001b[0mself\u001b[0m\u001b[1;33m.\u001b[0m\u001b[0mbase_estimator\u001b[0m\u001b[1;33m,\u001b[0m \u001b[0mself\u001b[0m\u001b[1;33m.\u001b[0m\u001b[0mbase_estimator_type\u001b[0m\u001b[1;33m,\u001b[0m \u001b[0mself\u001b[0m\u001b[1;33m.\u001b[0m\u001b[0mbase_estimator_params\u001b[0m\u001b[1;33m,\u001b[0m\u001b[1;33m\u001b[0m\u001b[0m\n\u001b[0;32m     99\u001b[0m                                      \u001b[0mself\u001b[0m\u001b[1;33m.\u001b[0m\u001b[0mlabel_transformer\u001b[0m\u001b[1;33m,\u001b[0m\u001b[1;33m\u001b[0m\u001b[0m\n\u001b[1;32m--> 100\u001b[1;33m                                      **fit_params)\n\u001b[0m\u001b[0;32m    101\u001b[0m                 \u001b[0mself\u001b[0m\u001b[1;33m.\u001b[0m\u001b[0mestimators_\u001b[0m\u001b[1;33m.\u001b[0m\u001b[0mappend\u001b[0m\u001b[1;33m(\u001b[0m\u001b[0mfitted_clf\u001b[0m\u001b[1;33m)\u001b[0m\u001b[1;33m\u001b[0m\u001b[0m\n\u001b[0;32m    102\u001b[0m \u001b[1;33m\u001b[0m\u001b[0m\n",
      "\u001b[1;32m/afs/ee.cooper.edu/user/t/a/tam8/documents/ml_misc/ordinal/simple.py\u001b[0m in \u001b[0;36mfit_bin\u001b[1;34m(X, y, est, est_type, est_params, label_transformer, **fit_params)\u001b[0m\n\u001b[0;32m     30\u001b[0m         \u001b[0mnew_est\u001b[0m \u001b[1;33m=\u001b[0m \u001b[0mest_type\u001b[0m\u001b[1;33m(\u001b[0m\u001b[1;33m**\u001b[0m\u001b[0mest_params\u001b[0m\u001b[1;33m)\u001b[0m\u001b[1;33m\u001b[0m\u001b[0m\n\u001b[0;32m     31\u001b[0m \u001b[1;33m\u001b[0m\u001b[0m\n\u001b[1;32m---> 32\u001b[1;33m     \u001b[1;32mreturn\u001b[0m \u001b[0mnew_est\u001b[0m\u001b[1;33m.\u001b[0m\u001b[0mfit\u001b[0m\u001b[1;33m(\u001b[0m\u001b[0mX\u001b[0m\u001b[1;33m,\u001b[0m \u001b[0my\u001b[0m\u001b[1;33m,\u001b[0m \u001b[1;33m**\u001b[0m\u001b[0mfit_params\u001b[0m\u001b[1;33m)\u001b[0m\u001b[1;33m\u001b[0m\u001b[0m\n\u001b[0m\u001b[0;32m     33\u001b[0m \u001b[1;33m\u001b[0m\u001b[0m\n\u001b[0;32m     34\u001b[0m \u001b[1;33m\u001b[0m\u001b[0m\n",
      "\u001b[1;32m/afs/ee.cooper.edu/user/t/a/tam8/documents/ml_misc/semi_supervised/rasco.py\u001b[0m in \u001b[0;36mfit\u001b[1;34m(self, X, y)\u001b[0m\n\u001b[0;32m    168\u001b[0m             \u001b[0mtic\u001b[0m \u001b[1;33m=\u001b[0m \u001b[0mtime\u001b[0m\u001b[1;33m(\u001b[0m\u001b[1;33m)\u001b[0m\u001b[1;33m\u001b[0m\u001b[0m\n\u001b[0;32m    169\u001b[0m \u001b[1;33m\u001b[0m\u001b[0m\n\u001b[1;32m--> 170\u001b[1;33m             \u001b[0mret\u001b[0m \u001b[1;33m=\u001b[0m \u001b[0mself\u001b[0m\u001b[1;33m.\u001b[0m\u001b[0mfit_iter\u001b[0m\u001b[1;33m(\u001b[0m\u001b[1;33m)\u001b[0m\u001b[1;33m\u001b[0m\u001b[0m\n\u001b[0m\u001b[0;32m    171\u001b[0m \u001b[1;33m\u001b[0m\u001b[0m\n\u001b[0;32m    172\u001b[0m             \u001b[1;32mif\u001b[0m \u001b[0mret\u001b[0m\u001b[1;33m:\u001b[0m\u001b[1;33m\u001b[0m\u001b[0m\n",
      "\u001b[1;32m/afs/ee.cooper.edu/user/t/a/tam8/documents/ml_misc/semi_supervised/rasco.py\u001b[0m in \u001b[0;36mfit_iter\u001b[1;34m(self)\u001b[0m\n\u001b[0;32m    147\u001b[0m         \u001b[0mpreds_list\u001b[0m \u001b[1;33m=\u001b[0m \u001b[0mParallel\u001b[0m\u001b[1;33m(\u001b[0m\u001b[0mn_jobs\u001b[0m\u001b[1;33m=\u001b[0m\u001b[0mself\u001b[0m\u001b[1;33m.\u001b[0m\u001b[0mn_jobs\u001b[0m\u001b[1;33m,\u001b[0m \u001b[0mbackend\u001b[0m\u001b[1;33m=\u001b[0m\u001b[1;34m'threading'\u001b[0m\u001b[1;33m)\u001b[0m\u001b[0;31m\\\u001b[0m\u001b[1;33m\u001b[0m\u001b[0m\n\u001b[0;32m    148\u001b[0m             (delayed(fit_sub)(sub_inds, self.X_L, self.y_L, self.X_U, est)\n\u001b[1;32m--> 149\u001b[1;33m              for sub_inds, est in zip(self.sub_sps_inds, self.estimators))\n\u001b[0m\u001b[0;32m    150\u001b[0m         \u001b[0mpreds\u001b[0m \u001b[1;33m=\u001b[0m \u001b[0mnp\u001b[0m\u001b[1;33m.\u001b[0m\u001b[0marray\u001b[0m\u001b[1;33m(\u001b[0m\u001b[0mpreds_list\u001b[0m\u001b[1;33m)\u001b[0m\u001b[1;33m\u001b[0m\u001b[0m\n\u001b[0;32m    151\u001b[0m \u001b[1;33m\u001b[0m\u001b[0m\n",
      "\u001b[1;32m/usr/lib/python2.7/site-packages/joblib/parallel.pyc\u001b[0m in \u001b[0;36m__call__\u001b[1;34m(self, iterable)\u001b[0m\n\u001b[0;32m    651\u001b[0m             \u001b[0mself\u001b[0m\u001b[1;33m.\u001b[0m\u001b[0m_iterating\u001b[0m \u001b[1;33m=\u001b[0m \u001b[0mTrue\u001b[0m\u001b[1;33m\u001b[0m\u001b[0m\n\u001b[0;32m    652\u001b[0m             \u001b[1;32mfor\u001b[0m \u001b[0mfunction\u001b[0m\u001b[1;33m,\u001b[0m \u001b[0margs\u001b[0m\u001b[1;33m,\u001b[0m \u001b[0mkwargs\u001b[0m \u001b[1;32min\u001b[0m \u001b[0miterable\u001b[0m\u001b[1;33m:\u001b[0m\u001b[1;33m\u001b[0m\u001b[0m\n\u001b[1;32m--> 653\u001b[1;33m                 \u001b[0mself\u001b[0m\u001b[1;33m.\u001b[0m\u001b[0mdispatch\u001b[0m\u001b[1;33m(\u001b[0m\u001b[0mfunction\u001b[0m\u001b[1;33m,\u001b[0m \u001b[0margs\u001b[0m\u001b[1;33m,\u001b[0m \u001b[0mkwargs\u001b[0m\u001b[1;33m)\u001b[0m\u001b[1;33m\u001b[0m\u001b[0m\n\u001b[0m\u001b[0;32m    654\u001b[0m \u001b[1;33m\u001b[0m\u001b[0m\n\u001b[0;32m    655\u001b[0m             \u001b[1;32mif\u001b[0m \u001b[0mpre_dispatch\u001b[0m \u001b[1;33m==\u001b[0m \u001b[1;34m\"all\"\u001b[0m \u001b[1;32mor\u001b[0m \u001b[0mn_jobs\u001b[0m \u001b[1;33m==\u001b[0m \u001b[1;36m1\u001b[0m\u001b[1;33m:\u001b[0m\u001b[1;33m\u001b[0m\u001b[0m\n",
      "\u001b[1;32m/usr/lib/python2.7/site-packages/joblib/parallel.pyc\u001b[0m in \u001b[0;36mdispatch\u001b[1;34m(self, func, args, kwargs)\u001b[0m\n\u001b[0;32m    398\u001b[0m         \"\"\"\n\u001b[0;32m    399\u001b[0m         \u001b[1;32mif\u001b[0m \u001b[0mself\u001b[0m\u001b[1;33m.\u001b[0m\u001b[0m_pool\u001b[0m \u001b[1;32mis\u001b[0m \u001b[0mNone\u001b[0m\u001b[1;33m:\u001b[0m\u001b[1;33m\u001b[0m\u001b[0m\n\u001b[1;32m--> 400\u001b[1;33m             \u001b[0mjob\u001b[0m \u001b[1;33m=\u001b[0m \u001b[0mImmediateApply\u001b[0m\u001b[1;33m(\u001b[0m\u001b[0mfunc\u001b[0m\u001b[1;33m,\u001b[0m \u001b[0margs\u001b[0m\u001b[1;33m,\u001b[0m \u001b[0mkwargs\u001b[0m\u001b[1;33m)\u001b[0m\u001b[1;33m\u001b[0m\u001b[0m\n\u001b[0m\u001b[0;32m    401\u001b[0m             \u001b[0mindex\u001b[0m \u001b[1;33m=\u001b[0m \u001b[0mlen\u001b[0m\u001b[1;33m(\u001b[0m\u001b[0mself\u001b[0m\u001b[1;33m.\u001b[0m\u001b[0m_jobs\u001b[0m\u001b[1;33m)\u001b[0m\u001b[1;33m\u001b[0m\u001b[0m\n\u001b[0;32m    402\u001b[0m             \u001b[1;32mif\u001b[0m \u001b[1;32mnot\u001b[0m \u001b[0m_verbosity_filter\u001b[0m\u001b[1;33m(\u001b[0m\u001b[0mindex\u001b[0m\u001b[1;33m,\u001b[0m \u001b[0mself\u001b[0m\u001b[1;33m.\u001b[0m\u001b[0mverbose\u001b[0m\u001b[1;33m)\u001b[0m\u001b[1;33m:\u001b[0m\u001b[1;33m\u001b[0m\u001b[0m\n",
      "\u001b[1;32m/usr/lib/python2.7/site-packages/joblib/parallel.pyc\u001b[0m in \u001b[0;36m__init__\u001b[1;34m(self, func, args, kwargs)\u001b[0m\n\u001b[0;32m    136\u001b[0m         \u001b[1;31m# Don't delay the application, to avoid keeping the input\u001b[0m\u001b[1;33m\u001b[0m\u001b[1;33m\u001b[0m\u001b[0m\n\u001b[0;32m    137\u001b[0m         \u001b[1;31m# arguments in memory\u001b[0m\u001b[1;33m\u001b[0m\u001b[1;33m\u001b[0m\u001b[0m\n\u001b[1;32m--> 138\u001b[1;33m         \u001b[0mself\u001b[0m\u001b[1;33m.\u001b[0m\u001b[0mresults\u001b[0m \u001b[1;33m=\u001b[0m \u001b[0mfunc\u001b[0m\u001b[1;33m(\u001b[0m\u001b[1;33m*\u001b[0m\u001b[0margs\u001b[0m\u001b[1;33m,\u001b[0m \u001b[1;33m**\u001b[0m\u001b[0mkwargs\u001b[0m\u001b[1;33m)\u001b[0m\u001b[1;33m\u001b[0m\u001b[0m\n\u001b[0m\u001b[0;32m    139\u001b[0m \u001b[1;33m\u001b[0m\u001b[0m\n\u001b[0;32m    140\u001b[0m     \u001b[1;32mdef\u001b[0m \u001b[0mget\u001b[0m\u001b[1;33m(\u001b[0m\u001b[0mself\u001b[0m\u001b[1;33m)\u001b[0m\u001b[1;33m:\u001b[0m\u001b[1;33m\u001b[0m\u001b[0m\n",
      "\u001b[1;32m/afs/ee.cooper.edu/user/t/a/tam8/documents/ml_misc/semi_supervised/rasco.py\u001b[0m in \u001b[0;36mfit_sub\u001b[1;34m(sub_inds, X_L, y_L, X_U, est)\u001b[0m\n\u001b[0;32m     32\u001b[0m     \u001b[0mX_L_sub\u001b[0m \u001b[1;33m=\u001b[0m \u001b[0mX_L\u001b[0m\u001b[1;33m[\u001b[0m\u001b[1;33m:\u001b[0m\u001b[1;33m,\u001b[0m \u001b[0msub_inds\u001b[0m\u001b[1;33m]\u001b[0m\u001b[1;33m\u001b[0m\u001b[0m\n\u001b[0;32m     33\u001b[0m     \u001b[0mest\u001b[0m\u001b[1;33m.\u001b[0m\u001b[0mfit\u001b[0m\u001b[1;33m(\u001b[0m\u001b[0mX_L_sub\u001b[0m\u001b[1;33m,\u001b[0m \u001b[0my_L\u001b[0m\u001b[1;33m)\u001b[0m\u001b[1;33m\u001b[0m\u001b[0m\n\u001b[1;32m---> 34\u001b[1;33m     \u001b[0mprobs_pred\u001b[0m \u001b[1;33m=\u001b[0m \u001b[0mest\u001b[0m\u001b[1;33m.\u001b[0m\u001b[0mpredict_proba\u001b[0m\u001b[1;33m(\u001b[0m\u001b[0mX_U\u001b[0m\u001b[1;33m[\u001b[0m\u001b[1;33m:\u001b[0m\u001b[1;33m,\u001b[0m \u001b[0msub_inds\u001b[0m\u001b[1;33m]\u001b[0m\u001b[1;33m)\u001b[0m\u001b[1;33m\u001b[0m\u001b[0m\n\u001b[0m\u001b[0;32m     35\u001b[0m     \u001b[1;32mreturn\u001b[0m \u001b[0mprobs_pred\u001b[0m\u001b[1;33m\u001b[0m\u001b[0m\n\u001b[0;32m     36\u001b[0m \u001b[1;33m\u001b[0m\u001b[0m\n",
      "\u001b[1;31mKeyboardInterrupt\u001b[0m: "
     ]
    }
   ],
   "source": [
    "scores = []\n",
    "scores_base = []\n",
    "lols = []\n",
    "n_reps = 1\n",
    "k = 3\n",
    "\n",
    "# clfs = [rasco_gbm_cat]\n",
    "# clfs = [simple.SimpleOrdinalClassifier(gbm_bin, n_jobs=1)]\n",
    "\n",
    "gg = rasco.Rasco([clone(gbm_bin) for _ in range(32)],\n",
    "                       feat_ratio=0.6,\n",
    "                       n_estimators=32, max_iters=10,\n",
    "                       n_xfer=100,\n",
    "                       verbose=True,\n",
    "                       n_jobs=1)\n",
    "ord_gg = simple.SimpleOrdinalClassifier(gg, n_jobs=1)\n",
    "clfs = [ord_gg]\n",
    "\n",
    "\n",
    "for reps in range(n_reps):\n",
    "    skf = StratifiedKFold(y_binned, n_folds=k,\n",
    "                          shuffle=True,\n",
    "                          random_state=np.random.randint(0,100))\n",
    "    for ii, (train, valid) in enumerate(skf):\n",
    "        print 'Fold %d' % ii,\n",
    "        X_train_k, X_valid_k = X_train[train], X_train[valid]\n",
    "        y_train_k, y_valid_k = y_train[train], y_train[valid]\n",
    "        y_train_binned_k, y_valid_binned_k = y_binned[train], y_binned[valid]\n",
    "        y_valid_k_orig = y_train_orig[valid]\n",
    "        \n",
    "        X_all = np.r_[X_train_k, X_test]\n",
    "        y_all = np.r_[y_train_k, np.nan*np.ones(len(X_test))]\n",
    "        y_binned_all = np.r_[y_train_binned_k, np.nan*np.ones(len(X_test))]\n",
    "        \n",
    "        tic = time()\n",
    "\n",
    "        for clf in clfs:\n",
    "            clf.fit(X_all, y_binned_all-1)\n",
    "#             clf.fit(X_train_k, y_train_binned_k-1)\n",
    "\n",
    "        \n",
    "        toc = time() - tic\n",
    "        print 'Train time: %2.3f s\\t' % toc,\n",
    "        tic = time()\n",
    "\n",
    "        \n",
    "        valid_preds = [clf.predict(X_valid_k, weighted=True) for clf in clfs]\n",
    "        \n",
    "        \n",
    "        score = [metrics.normalized_gini(y_valid_k_orig, v) for v in valid_preds]\n",
    "        \n",
    "        toc_pred = time() - tic\n",
    "        print 'Pred time: %2.3f s\\t' % toc_pred, \n",
    "        \n",
    "        print 'Score', score\n",
    "        scores.append(score)\n",
    "        break\n",
    "        \n",
    "        \n",
    "print \"done\"\n",
    "print 'Score:', np.array(scores).mean(axis=0)"
   ]
  },
  {
   "cell_type": "code",
   "execution_count": 91,
   "metadata": {
    "collapsed": false
   },
   "outputs": [
    {
     "name": "stdout",
     "output_type": "stream",
     "text": [
      "Pred time: 1968.875 s\tScore [-0.010252387650191009]\n"
     ]
    }
   ],
   "source": [
    "valid_preds = [clf.predict(X_valid_k) for clf in clfs]\n",
    "\n",
    "score = [metrics.normalized_gini(y_valid_k_orig, v) for v in valid_preds]\n",
    "\n",
    "toc_pred = time() - tic\n",
    "print 'Pred time: %2.3f s\\t' % toc_pred, \n",
    "\n",
    "print 'Score', score\n",
    "scores.append(score)"
   ]
  },
  {
   "cell_type": "code",
   "execution_count": 96,
   "metadata": {
    "collapsed": false
   },
   "outputs": [
    {
     "data": {
      "text/plain": [
       "Counter({0: 16995, 2: 6})"
      ]
     },
     "execution_count": 96,
     "metadata": {},
     "output_type": "execute_result"
    }
   ],
   "source": [
    "from collections import Counter\n",
    "Counter(valid_preds[0])\n"
   ]
  },
  {
   "cell_type": "code",
   "execution_count": 98,
   "metadata": {
    "collapsed": false
   },
   "outputs": [],
   "source": [
    "probs = clf.predict_proba(X_valid_k)"
   ]
  },
  {
   "cell_type": "code",
   "execution_count": 114,
   "metadata": {
    "collapsed": false
   },
   "outputs": [
    {
     "data": {
      "text/html": [
       "<div style=\"max-height:1000px;max-width:1500px;overflow:auto;\">\n",
       "<table border=\"1\" class=\"dataframe\">\n",
       "  <thead>\n",
       "    <tr style=\"text-align: right;\">\n",
       "      <th></th>\n",
       "      <th>0</th>\n",
       "      <th>1</th>\n",
       "      <th>2</th>\n",
       "      <th>3</th>\n",
       "      <th>4</th>\n",
       "      <th>5</th>\n",
       "    </tr>\n",
       "  </thead>\n",
       "  <tbody>\n",
       "    <tr>\n",
       "      <th>0</th>\n",
       "      <td> 0.373863</td>\n",
       "      <td> 0.172267</td>\n",
       "      <td> 0.247278</td>\n",
       "      <td> 0.157619</td>\n",
       "      <td> 0.048973</td>\n",
       "      <td> 1</td>\n",
       "    </tr>\n",
       "    <tr>\n",
       "      <th>1</th>\n",
       "      <td> 0.355497</td>\n",
       "      <td> 0.164078</td>\n",
       "      <td> 0.273147</td>\n",
       "      <td> 0.156618</td>\n",
       "      <td> 0.050660</td>\n",
       "      <td> 3</td>\n",
       "    </tr>\n",
       "    <tr>\n",
       "      <th>2</th>\n",
       "      <td> 0.359538</td>\n",
       "      <td> 0.175760</td>\n",
       "      <td> 0.256977</td>\n",
       "      <td> 0.151940</td>\n",
       "      <td> 0.055785</td>\n",
       "      <td> 1</td>\n",
       "    </tr>\n",
       "    <tr>\n",
       "      <th>3</th>\n",
       "      <td> 0.365223</td>\n",
       "      <td> 0.154651</td>\n",
       "      <td> 0.254370</td>\n",
       "      <td> 0.170097</td>\n",
       "      <td> 0.055659</td>\n",
       "      <td> 1</td>\n",
       "    </tr>\n",
       "    <tr>\n",
       "      <th>4</th>\n",
       "      <td> 0.387085</td>\n",
       "      <td> 0.152515</td>\n",
       "      <td> 0.246580</td>\n",
       "      <td> 0.157921</td>\n",
       "      <td> 0.055898</td>\n",
       "      <td> 1</td>\n",
       "    </tr>\n",
       "    <tr>\n",
       "      <th>5</th>\n",
       "      <td> 0.385071</td>\n",
       "      <td> 0.168589</td>\n",
       "      <td> 0.264334</td>\n",
       "      <td> 0.135865</td>\n",
       "      <td> 0.046141</td>\n",
       "      <td> 1</td>\n",
       "    </tr>\n",
       "    <tr>\n",
       "      <th>6</th>\n",
       "      <td> 0.372401</td>\n",
       "      <td> 0.141727</td>\n",
       "      <td> 0.275748</td>\n",
       "      <td> 0.153044</td>\n",
       "      <td> 0.057080</td>\n",
       "      <td> 5</td>\n",
       "    </tr>\n",
       "    <tr>\n",
       "      <th>7</th>\n",
       "      <td> 0.387455</td>\n",
       "      <td> 0.144027</td>\n",
       "      <td> 0.268762</td>\n",
       "      <td> 0.150189</td>\n",
       "      <td> 0.049567</td>\n",
       "      <td> 5</td>\n",
       "    </tr>\n",
       "    <tr>\n",
       "      <th>8</th>\n",
       "      <td> 0.415649</td>\n",
       "      <td> 0.147575</td>\n",
       "      <td> 0.250130</td>\n",
       "      <td> 0.137614</td>\n",
       "      <td> 0.049032</td>\n",
       "      <td> 3</td>\n",
       "    </tr>\n",
       "    <tr>\n",
       "      <th>9</th>\n",
       "      <td> 0.368009</td>\n",
       "      <td> 0.159706</td>\n",
       "      <td> 0.256766</td>\n",
       "      <td> 0.167969</td>\n",
       "      <td> 0.047550</td>\n",
       "      <td> 1</td>\n",
       "    </tr>\n",
       "  </tbody>\n",
       "</table>\n",
       "</div>"
      ],
      "text/plain": [
       "          0         1         2         3         4  5\n",
       "0  0.373863  0.172267  0.247278  0.157619  0.048973  1\n",
       "1  0.355497  0.164078  0.273147  0.156618  0.050660  3\n",
       "2  0.359538  0.175760  0.256977  0.151940  0.055785  1\n",
       "3  0.365223  0.154651  0.254370  0.170097  0.055659  1\n",
       "4  0.387085  0.152515  0.246580  0.157921  0.055898  1\n",
       "5  0.385071  0.168589  0.264334  0.135865  0.046141  1\n",
       "6  0.372401  0.141727  0.275748  0.153044  0.057080  5\n",
       "7  0.387455  0.144027  0.268762  0.150189  0.049567  5\n",
       "8  0.415649  0.147575  0.250130  0.137614  0.049032  3\n",
       "9  0.368009  0.159706  0.256766  0.167969  0.047550  1"
      ]
     },
     "execution_count": 114,
     "metadata": {},
     "output_type": "execute_result"
    }
   ],
   "source": [
    "pd.DataFrame(np.c_[probs[:10,:], y_valid_binned_k[:10]])\n"
   ]
  }
 ],
 "metadata": {
  "kernelspec": {
   "display_name": "Python 2",
   "language": "python",
   "name": "python2"
  },
  "language_info": {
   "codemirror_mode": {
    "name": "ipython",
    "version": 2
   },
   "file_extension": ".py",
   "mimetype": "text/x-python",
   "name": "python",
   "nbconvert_exporter": "python",
   "pygments_lexer": "ipython2",
   "version": "2.7.8"
  }
 },
 "nbformat": 4,
 "nbformat_minor": 0
}
