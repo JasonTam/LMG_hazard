{
 "cells": [
  {
   "cell_type": "code",
   "execution_count": 14,
   "metadata": {
    "collapsed": false
   },
   "outputs": [],
   "source": [
    "\n",
    "from time import time\n",
    "import numpy as np\n",
    "import cPickle as pickle\n",
    "import pandas as pd\n",
    "from pysofia.compat import RankSVM, RankSVMCV\n",
    "from sklearn.pipeline import make_pipeline, make_union\n",
    "import transformers as tforms\n",
    "from sklearn.preprocessing import StandardScaler"
   ]
  },
  {
   "cell_type": "code",
   "execution_count": 6,
   "metadata": {
    "collapsed": false
   },
   "outputs": [],
   "source": [
    "# Load Data custom\n",
    "train_pd  = pd.read_pickle('saved/train_pd_custom.p')\n",
    "test_pd  = pd.read_pickle('saved/test_pd_custom.p')\n",
    "\n",
    "labels = pd.read_pickle('saved/labels.p')\n",
    "test_ind = pickle.load(open('saved/test_ind.p'))\n",
    "y_binned = np.load('saved/y_binned.npy')"
   ]
  },
  {
   "cell_type": "code",
   "execution_count": 7,
   "metadata": {
    "collapsed": true
   },
   "outputs": [],
   "source": [
    "# Load Data le instead\n",
    "# train_pd  = pd.read_pickle('saved/train_pd_l_enc.p')\n",
    "# test_pd  = pd.read_pickle('saved/test_pd_l_enc.p')\n",
    "\n",
    "train_pd  = pd.read_pickle('saved/train_pd_le_and_oh_enc.p')\n",
    "test_pd  = pd.read_pickle('saved/test_pd_le_and_oh_enc.p')\n",
    "\n",
    "labels = pd.read_pickle('saved/labels.p')\n",
    "test_ind = pickle.load(open('saved/test_ind.p'))\n",
    "y_binned = np.load('saved/y_binned.npy')\n",
    "fi = np.load('saved/feature_importances.npy')\n",
    "\n",
    "y_binned[y_binned==6] = 5\n",
    "\n",
    "drop_cols = ['T1_V10', 'T1_V13', 'T2_V7', 'T2_V10']\n",
    "# drop_cols = []\n",
    "\n",
    "# drop_cols = train_pd.columns[fi < 0.01]\n",
    "\n",
    "\n",
    "for col in drop_cols:\n",
    "    train_pd.drop(col, axis=1, inplace=True)\n",
    "    test_pd.drop(col, axis=1, inplace=True)"
   ]
  },
  {
   "cell_type": "code",
   "execution_count": 8,
   "metadata": {
    "collapsed": false
   },
   "outputs": [
    {
     "name": "stdout",
     "output_type": "stream",
     "text": [
      "(50999, 2)\n",
      "(51000, 2)\n",
      "(50999, 2)\n",
      "(51000, 2)\n"
     ]
    }
   ],
   "source": [
    "X_tsne2_26 = np.load('saved/X_tsne2_26important.npy')\n",
    "X_tsne2_26_train = X_tsne2_26[:len(train_pd), :]\n",
    "X_tsne2_26_test = X_tsne2_26[-len(test_pd):, :]\n",
    "\n",
    "X_tsne2 = np.load('saved/X_tsne2.npy')\n",
    "X_tsne2_train = X_tsne2[:len(train_pd), :]\n",
    "X_tsne2_test = X_tsne2[-len(test_pd):, :]\n",
    "\n",
    "print X_tsne2_train.shape\n",
    "print X_tsne2_test.shape\n",
    "print X_tsne2_26_train.shape\n",
    "print X_tsne2_26_test.shape"
   ]
  },
  {
   "cell_type": "code",
   "execution_count": 16,
   "metadata": {
    "collapsed": false
   },
   "outputs": [
    {
     "name": "stdout",
     "output_type": "stream",
     "text": [
      "y_train (50999,)\n",
      "X_train (50999, 79)\n",
      "X_test (51000, 79)\n",
      "X_hold 50\n",
      "5\n",
      "<type 'numpy.float64'>\n"
     ]
    }
   ],
   "source": [
    "train = np.array(train_pd)\n",
    "test = np.array(test_pd)\n",
    "\n",
    "X_train = train.astype(float)\n",
    "X_test = test.astype(float)\n",
    "y_train = np.array(labels)\n",
    "\n",
    "try:\n",
    "    X_train = np.c_[X_train, X_tsne2_26_train]\n",
    "    X_test = np.c_[X_test, X_tsne2_26_test]\n",
    "#     X_train = X_tsne2_26_train\n",
    "#     X_test = X_tsne2_26_test\n",
    "except:\n",
    "    pass\n",
    "\n",
    "holdout = False\n",
    "if holdout:\n",
    "    X_train, X_hold, \\\n",
    "    y_train, y_hold, \\\n",
    "    y_binned, y_binned_hold \\\n",
    "    = train_test_split(\n",
    "        X_train, y_train, y_binned, \n",
    "        test_size=0.2, random_state=0)\n",
    "\n",
    "\n",
    "pipe_x = make_pipeline(\n",
    "    make_union(\n",
    "        tforms.IdentityTformer(),\n",
    "#         make_pipeline(AddTformer(1), BoxCoxTformer()),\n",
    "#         AnscombeTformer(),\n",
    "    ),\n",
    "    StandardScaler(),\n",
    ")\n",
    "pipe_y = make_pipeline(\n",
    "    tforms.IdentityTformer(),\n",
    "#     tforms.BoxCoxTformer(),\n",
    "#     tforms.LogTformer(),\n",
    "#     tforms.AnscombeTformer(),\n",
    "#     tforms.FreemanTukeyTformer(),\n",
    "#     tforms.ArcsinhTformer(),\n",
    "#     StandardScaler(),\n",
    "    \n",
    ")\n",
    "pipe_x.fit(np.r_[X_train, X_test])\n",
    "pipe_y.fit(y_train)\n",
    "\n",
    "X_train = pipe_x.transform(X_train)\n",
    "X_test = pipe_x.transform(X_test)\n",
    "try:\n",
    "    X_hold = pipe_x.transform(X_hold)\n",
    "except:\n",
    "    pass\n",
    "# y_train = pipe_y.fit_transform(y_train)\n",
    "\n",
    "# small_n = 5000\n",
    "# X_train = X_train[:small_n,:]\n",
    "# y_train = y_train[:small_n]\n",
    "# y_binned = y_binned[:small_n]\n",
    "\n",
    "print 'y_train', y_train.shape\n",
    "print 'X_train', X_train.shape\n",
    "print 'X_test', X_test.shape\n",
    "try:\n",
    "    print 'X_hold', X_hold.shape\n",
    "except:\n",
    "    pass\n",
    "print len(np.unique(y_train))\n",
    "print len(np.unique(y_binned))\n",
    "print type(X_train[0][0])"
   ]
  },
  {
   "cell_type": "code",
   "execution_count": 18,
   "metadata": {
    "collapsed": true
   },
   "outputs": [],
   "source": [
    "from svmlight_loader import dump_svmlight_file, load_svmlight_file"
   ]
  },
  {
   "cell_type": "code",
   "execution_count": 19,
   "metadata": {
    "collapsed": false
   },
   "outputs": [],
   "source": [
    "dump_svmlight_file(X_train, y_train, 'saved/train_79.svmlight')"
   ]
  },
  {
   "cell_type": "code",
   "execution_count": 20,
   "metadata": {
    "collapsed": true
   },
   "outputs": [],
   "source": [
    "dump_svmlight_file(X_test, np.zeros(len(X_test)), 'saved/test_79.svmlight')"
   ]
  },
  {
   "cell_type": "code",
   "execution_count": 21,
   "metadata": {
    "collapsed": false
   },
   "outputs": [],
   "source": [
    "X_all = np.r_[X_train, X_test]"
   ]
  },
  {
   "cell_type": "code",
   "execution_count": 22,
   "metadata": {
    "collapsed": false
   },
   "outputs": [],
   "source": [
    "dump_svmlight_file(X_all, np.zeros(len(X_all)), 'saved/X_all_79.svmlight')"
   ]
  },
  {
   "cell_type": "code",
   "execution_count": 23,
   "metadata": {
    "collapsed": true
   },
   "outputs": [],
   "source": [
    "import os\n",
    "from subprocess import Popen, call, PIPE\n",
    "# from sklearn.datasets import dump_svmlight_file, load_svmlight_file\n",
    "from svmlight_loader import dump_svmlight_file, load_svmlight_file\n",
    "\n",
    "def call_stuff(cmd):\n",
    "    p = Popen(cmd, stdout=PIPE, stderr=PIPE)\n",
    "    while True:\n",
    "        line = p.stdout.readline()\n",
    "        if line != '':\n",
    "            print line.rstrip()\n",
    "        else:\n",
    "            break\n",
    "    output, err = p.communicate()\n",
    "    print output\n",
    "    print err"
   ]
  },
  {
   "cell_type": "code",
   "execution_count": 30,
   "metadata": {
    "collapsed": true
   },
   "outputs": [],
   "source": [
    "n_clusters = 1000\n",
    "train_file = 'saved/X_all_79.svmlight'"
   ]
  },
  {
   "cell_type": "code",
   "execution_count": 31,
   "metadata": {
    "collapsed": false
   },
   "outputs": [
    {
     "name": "stdout",
     "output_type": "stream",
     "text": [
      "Time to read training data from saved/X_all_79.svmlight: 1.95663\n",
      "Time to initialize cluster centers: 32.0458\n",
      "Objective function value for initialization: 3.83157e+06\n",
      "Time to compute objective function: 13.1295\n",
      "Time to optimize cluster centers: 26.5739\n",
      "Objective function value for training: 2.36315e+06\n",
      "Time to compute objective function: 13.1289\n",
      "\n",
      "Reading data from: saved/X_all_79.svmlight\n",
      "Writing model to: saved/model_sofia1000\n",
      "   Done.\n",
      "   Done.\n",
      "\n"
     ]
    }
   ],
   "source": [
    "fit_call = [\n",
    "    'sofia-kmeans',\n",
    "    '--k', str(n_clusters),\n",
    "    '--init_type', 'optimized_kmeans_pp',\n",
    "    '--opt_type', 'mini_batch_kmeans', \n",
    "    '--mini_batch_size', '256',\n",
    "    '--iterations', '800', \n",
    "    '--objective_after_init',\n",
    "    '--objective_after_training',\n",
    "    '--training_file', train_file,\n",
    "    '--model_out', 'saved/model_sofia%d'%n_clusters,\n",
    "]\n",
    "\n",
    "call_stuff(fit_call)"
   ]
  },
  {
   "cell_type": "code",
   "execution_count": 39,
   "metadata": {
    "collapsed": false
   },
   "outputs": [
    {
     "name": "stdout",
     "output_type": "stream",
     "text": [
      "Time to read training data from saved/train_79.svmlight: 0.976321\n",
      "\n",
      "Reading data from: saved/train_79.svmlight\n",
      "Writing cluster mappings to: saved/mapped1000_train_79.libsvm\n",
      "   Done.\n",
      "\n"
     ]
    }
   ],
   "source": [
    "# Map train\n",
    "file_to_map = 'saved/train_79.svmlight'\n",
    "\n",
    "map_call = [\n",
    "    'sofia-kmeans',\n",
    "    '--model_in', 'saved/model_sofia%d'%n_clusters,\n",
    "    '--test_file', file_to_map,\n",
    "    '--cluster_mapping_out', 'saved/mapped%d_train_79.libsvm'%n_clusters,\n",
    "    '--cluster_mapping_type', 'rbf_kernel',\n",
    "    '--cluster_mapping_param', '0.006',\n",
    "    '--cluster_mapping_threshold', '0.01',\n",
    "]\n",
    "\n",
    "call_stuff(map_call)"
   ]
  },
  {
   "cell_type": "code",
   "execution_count": 42,
   "metadata": {
    "collapsed": false
   },
   "outputs": [
    {
     "name": "stdout",
     "output_type": "stream",
     "text": [
      "Time to read training data from saved/test_79.svmlight: 0.977348\n",
      "\n",
      "Reading data from: saved/test_79.svmlight\n",
      "Writing cluster mappings to: saved/mapped1000_test_79.libsvm\n",
      "   Done.\n",
      "\n"
     ]
    }
   ],
   "source": [
    "# Map test\n",
    "file_to_map = 'saved/test_79.svmlight'\n",
    "\n",
    "map_call = [\n",
    "    'sofia-kmeans',\n",
    "    '--model_in', 'saved/model_sofia%d'%n_clusters,\n",
    "    '--test_file', file_to_map,\n",
    "    '--cluster_mapping_out', 'saved/mapped%d_test_79.libsvm'%n_clusters,\n",
    "    '--cluster_mapping_type', 'rbf_kernel',\n",
    "    '--cluster_mapping_param', '0.006',\n",
    "    '--cluster_mapping_threshold', '0.01',\n",
    "]\n",
    "\n",
    "call_stuff(map_call)"
   ]
  },
  {
   "cell_type": "code",
   "execution_count": null,
   "metadata": {
    "collapsed": false
   },
   "outputs": [],
   "source": [
    "# np.save('saved/X_train_1000means.npy', q)"
   ]
  },
  {
   "cell_type": "code",
   "execution_count": 40,
   "metadata": {
    "collapsed": false
   },
   "outputs": [],
   "source": [
    "\n",
    "mapped_train, _y = load_svmlight_file('saved/mapped%d_train_79.libsvm'%n_clusters)\n",
    "q = mapped_train.todense()\n"
   ]
  },
  {
   "cell_type": "code",
   "execution_count": 41,
   "metadata": {
    "collapsed": false
   },
   "outputs": [
    {
     "data": {
      "text/plain": [
       "(array([ 2631764.,  4173681.,  6300255.,  8230800.,  9151770.,  9204615.,\n",
       "         7605404.,  3079237.,   577470.,    44004.]),\n",
       " array([ 0. ,  0.1,  0.2,  0.3,  0.4,  0.5,  0.6,  0.7,  0.8,  0.9,  1. ]),\n",
       " <a list of 10 Patch objects>)"
      ]
     },
     "execution_count": 41,
     "metadata": {},
     "output_type": "execute_result"
    },
    {
     "data": {
      "image/png": "[encoded data removed]",
      "text/plain": [
       "<matplotlib.figure.Figure at 0x7f38c57fdfd0>"
      ]
     },
     "metadata": {},
     "output_type": "display_data"
    }
   ],
   "source": [
    "import matplotlib.pyplot as plt\n",
    "import seaborn as sns\n",
    "import numpy as np\n",
    "%matplotlib inline\n",
    "plt.hist(np.ravel(q))"
   ]
  }
 ],
 "metadata": {
  "kernelspec": {
   "display_name": "Python 2",
   "language": "python",
   "name": "python2"
  },
  "language_info": {
   "codemirror_mode": {
    "name": "ipython",
    "version": 2
   },
   "file_extension": ".py",
   "mimetype": "text/x-python",
   "name": "python",
   "nbconvert_exporter": "python",
   "pygments_lexer": "ipython2",
   "version": "2.7.8"
  }
 },
 "nbformat": 4,
 "nbformat_minor": 0
}
