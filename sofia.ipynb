{
 "cells": [
  {
   "cell_type": "code",
   "execution_count": 6,
   "metadata": {
    "collapsed": false
   },
   "outputs": [],
   "source": [
    "import sys\n",
    "sys.path.append('/afs/ee.cooper.edu/user/t/a/tam8/documents/ml_misc/semi_supervised/')\n",
    "import coreg\n",
    "reload(coreg)\n",
    "import trireg\n",
    "reload(trireg)\n",
    "sys.path.append('/afs/ee.cooper.edu/user/t/a/tam8/documents/ml_misc/ordinal/')\n",
    "import simple\n",
    "reload(simple)\n",
    "sys.path.append('/afs/ee.cooper.edu/user/t/a/tam8/documents/ml_misc/ensemble/')\n",
    "import stacking\n",
    "reload(stacking)\n",
    "\n",
    "sys.path.append('/afs/ee.cooper.edu/user/t/a/tam8/documents/ml_misc/neighbors/')\n",
    "import rpfnn\n",
    "reload(rpfnn)\n",
    "import ann\n",
    "reload(ann)\n",
    "\n",
    "import pandas as pd\n",
    "import numpy as np\n",
    "from sklearn import preprocessing\n",
    "import xgboost as xgb\n",
    "\n",
    "import transformers as tforms\n",
    "reload(tforms)\n",
    "from sklearn.pipeline import Pipeline, make_pipeline, FeatureUnion, make_union\n",
    "\n",
    "import metrics\n",
    "reload(metrics)\n",
    "from sklearn.cross_validation import StratifiedKFold, train_test_split\n",
    "\n",
    "from sklearn.base import clone\n",
    "\n",
    "from sklearn.svm import SVC, LinearSVC, SVR\n",
    "from sklearn.naive_bayes import GaussianNB\n",
    "from sklearn.linear_model import LinearRegression, LogisticRegression, ElasticNet, Ridge, Lasso, SGDRegressor\n",
    "from sklearn.tree import DecisionTreeClassifier, ExtraTreeClassifier, DecisionTreeClassifier, DecisionTreeRegressor\n",
    "\n",
    "from sklearn.ensemble import ExtraTreesClassifier, ExtraTreesRegressor\n",
    "from sklearn.ensemble import RandomForestRegressor, RandomForestClassifier\n",
    "from sklearn.ensemble import AdaBoostClassifier, AdaBoostRegressor\n",
    "from sklearn.ensemble import BaggingRegressor\n",
    "\n",
    "from sklearn.lda import LDA\n",
    "from sklearn.qda import QDA\n",
    "\n",
    "from sklearn.neighbors import KNeighborsRegressor\n",
    "from sklearn.kernel_ridge import KernelRidge\n",
    "from sklearn.isotonic import IsotonicRegression\n",
    "\n",
    "from sklearn.preprocessing import StandardScaler\n",
    "\n",
    "from collections import Counter\n",
    "import minirank as mr\n",
    "\n",
    "import matplotlib.pyplot as plt\n",
    "%matplotlib inline\n",
    "import seaborn as sns\n",
    "\n",
    "from time import time\n",
    "\n",
    "import cPickle as pickle\n",
    "\n",
    "from pysofia.compat import RankSVM, RankSVMCV\n",
    "\n",
    "def wgmean(x, w):\n",
    "    return np.exp(np.sum(w*np.log(x), axis=1) / np.sum(w, axis=1))"
   ]
  },
  {
   "cell_type": "code",
   "execution_count": 2,
   "metadata": {
    "collapsed": false
   },
   "outputs": [],
   "source": [
    "# Load Data\n",
    "train_pd  = pd.read_pickle('saved/train_pd_enc.p')\n",
    "test_pd  = pd.read_pickle('saved/test_pd_enc.p')\n",
    "labels = pd.read_pickle('saved/labels.p')\n",
    "test_ind = pickle.load(open('saved/test_ind.p'))\n",
    "y_binned = np.load('saved/y_binned.npy')\n",
    "\n",
    "fi = np.load('saved/feature_importances.npy')\n",
    "y_binned[y_binned==6] = 5\n",
    "\n",
    "drop_cols = ['T1_V10', 'T1_V13', 'T2_V7', 'T2_V10']\n",
    "# drop_cols = train_pd.columns[fi < 0.01]\n",
    "\n",
    "\n",
    "for col in drop_cols:\n",
    "    train_pd.drop(col, axis=1, inplace=True)\n",
    "    test_pd.drop(col, axis=1, inplace=True)\n"
   ]
  },
  {
   "cell_type": "code",
   "execution_count": 2,
   "metadata": {
    "collapsed": true
   },
   "outputs": [],
   "source": [
    "# Load Data le instead\n",
    "# train_pd  = pd.read_pickle('saved/train_pd_l_enc.p')\n",
    "# test_pd  = pd.read_pickle('saved/test_pd_l_enc.p')\n",
    "\n",
    "train_pd  = pd.read_pickle('saved/train_pd_le_and_oh_enc.p')\n",
    "test_pd  = pd.read_pickle('saved/test_pd_le_and_oh_enc.p')\n",
    "\n",
    "labels = pd.read_pickle('saved/labels.p')\n",
    "test_ind = pickle.load(open('saved/test_ind.p'))\n",
    "y_binned = np.load('saved/y_binned.npy')\n",
    "fi = np.load('saved/feature_importances.npy')\n",
    "\n",
    "y_binned[y_binned==6] = 5\n",
    "\n",
    "drop_cols = ['T1_V10', 'T1_V13', 'T2_V7', 'T2_V10']\n",
    "# drop_cols = []\n",
    "\n",
    "# drop_cols = train_pd.columns[fi < 0.01]\n",
    "\n",
    "\n",
    "for col in drop_cols:\n",
    "    train_pd.drop(col, axis=1, inplace=True)\n",
    "    test_pd.drop(col, axis=1, inplace=True)"
   ]
  },
  {
   "cell_type": "code",
   "execution_count": 2,
   "metadata": {
    "collapsed": false
   },
   "outputs": [],
   "source": [
    "# Load Data binary instead\n",
    "train_pd  = pd.read_pickle('saved/train_pd_binary_enc.p')\n",
    "test_pd  = pd.read_pickle('saved/test_pd_binary_enc.p')\n",
    "labels = pd.read_pickle('saved/labels.p')\n",
    "test_ind = pickle.load(open('saved/test_ind.p'))\n",
    "y_binned = np.load('saved/y_binned.npy')\n",
    "\n",
    "y_binned[y_binned==6] = 5"
   ]
  },
  {
   "cell_type": "code",
   "execution_count": 3,
   "metadata": {
    "collapsed": false
   },
   "outputs": [
    {
     "name": "stdout",
     "output_type": "stream",
     "text": [
      "(50999, 2)\n",
      "(51000, 2)\n",
      "(50999, 2)\n",
      "(51000, 2)\n"
     ]
    }
   ],
   "source": [
    "X_tsne2_26 = np.load('saved/X_tsne2_26important.npy')\n",
    "X_tsne2_26_train = X_tsne2_26[:len(train_pd), :]\n",
    "X_tsne2_26_test = X_tsne2_26[-len(test_pd):, :]\n",
    "\n",
    "X_tsne2 = np.load('saved/X_tsne2.npy')\n",
    "X_tsne2_train = X_tsne2[:len(train_pd), :]\n",
    "X_tsne2_test = X_tsne2[-len(test_pd):, :]\n",
    "\n",
    "print X_tsne2_train.shape\n",
    "print X_tsne2_test.shape\n",
    "print X_tsne2_26_train.shape\n",
    "print X_tsne2_26_test.shape"
   ]
  },
  {
   "cell_type": "code",
   "execution_count": 4,
   "metadata": {
    "collapsed": false
   },
   "outputs": [
    {
     "name": "stdout",
     "output_type": "stream",
     "text": [
      "y_train (50999,)\n",
      "X_train (50999, 125)\n",
      "X_test (51000, 125)\n",
      "X_hold 50\n",
      "5\n",
      "<type 'numpy.float64'>\n"
     ]
    }
   ],
   "source": [
    "train = np.array(train_pd)\n",
    "test = np.array(test_pd)\n",
    "\n",
    "X_train = train.astype(float)\n",
    "X_test = test.astype(float)\n",
    "y_train = np.array(labels)\n",
    "\n",
    "try:\n",
    "    X_train = np.c_[X_train, X_tsne2_26_train]\n",
    "    X_test = np.c_[X_test, X_tsne2_26_test]\n",
    "#     X_train = X_tsne2_26_train\n",
    "#     X_test = X_tsne2_26_test\n",
    "except:\n",
    "    pass\n",
    "\n",
    "holdout = False\n",
    "if holdout:\n",
    "    X_train, X_hold, \\\n",
    "    y_train, y_hold, \\\n",
    "    y_binned, y_binned_hold \\\n",
    "    = train_test_split(\n",
    "        X_train, y_train, y_binned, \n",
    "        test_size=0.2, random_state=0)\n",
    "\n",
    "\n",
    "pipe_x = make_pipeline(\n",
    "    make_union(\n",
    "        tforms.IdentityTformer(),\n",
    "#         make_pipeline(AddTformer(1), BoxCoxTformer()),\n",
    "#         AnscombeTformer(),\n",
    "    ),\n",
    "#     StandardScaler(),\n",
    ")\n",
    "pipe_y = make_pipeline(\n",
    "    tforms.IdentityTformer(),\n",
    "#     tforms.BoxCoxTformer(),\n",
    "#     tforms.LogTformer(),\n",
    "#     tforms.AnscombeTformer(),\n",
    "#     tforms.FreemanTukeyTformer(),\n",
    "#     tforms.ArcsinhTformer(),\n",
    "#     StandardScaler(),\n",
    "    \n",
    ")\n",
    "pipe_x.fit(np.r_[X_train, X_test])\n",
    "pipe_y.fit(y_train)\n",
    "\n",
    "X_train = pipe_x.transform(X_train)\n",
    "X_test = pipe_x.transform(X_test)\n",
    "try:\n",
    "    X_hold = pipe_x.transform(X_hold)\n",
    "except:\n",
    "    pass\n",
    "# y_train = pipe_y.fit_transform(y_train)\n",
    "\n",
    "# small_n = 5000\n",
    "# X_train = X_train[:small_n,:]\n",
    "# y_train = y_train[:small_n]\n",
    "# y_binned = y_binned[:small_n]\n",
    "\n",
    "print 'y_train', y_train.shape\n",
    "print 'X_train', X_train.shape\n",
    "print 'X_test', X_test.shape\n",
    "try:\n",
    "    print 'X_hold', X_hold.shape\n",
    "except:\n",
    "    pass\n",
    "print len(np.unique(y_train))\n",
    "print len(np.unique(y_binned))\n",
    "print type(X_train[0][0])"
   ]
  },
  {
   "cell_type": "code",
   "execution_count": 84,
   "metadata": {
    "collapsed": false
   },
   "outputs": [
    {
     "name": "stdout",
     "output_type": "stream",
     "text": [
      "Fold 0 Train time: 1.404 s\tPred time: 0.295 s\tScore [0.328038698049521]\n",
      "Score avg ensemble 0.32803869805\n",
      "Fold 1 Train time: 1.411 s\tPred time: 0.292 s\tScore [0.31757442121902096]\n",
      "Score avg ensemble 0.317574421219\n",
      "Fold 2 Train time: 1.414 s\tPred time: 0.294 s\tScore [0.30003639874794225]\n",
      "Score avg ensemble 0.300036398748\n",
      "done\n",
      "Score: [ 0.31521651]\n",
      "Base Score: 0.315216506005\n",
      "lol [] nan\n"
     ]
    }
   ],
   "source": [
    "ord_gaussnb_bin = simple.SimpleOrdinalClassifier(GaussianNB(), n_jobs=-1)\n",
    "gbm = xgb.XGBRegressor(\n",
    "    objective=\"reg:linear\",\n",
    "    n_estimators=600,\n",
    "    learning_rate=0.005,\n",
    "#     gamma=0.0,\n",
    "    max_depth=9,\n",
    "    min_child_weight=6,\n",
    "#     max_delta_step=10,\n",
    "    subsample=0.7,\n",
    "    colsample_bytree=0.7,\n",
    "#     scale_pos_weight=1.0,\n",
    "    base_score=0.5,\n",
    "    nthread=-1,\n",
    "    seed=np.random.randint(0,100),\n",
    "    silent=True,\n",
    ")\n",
    "\n",
    "# clfs = [RankSVM(max_iter=1000)]\n",
    "# clfs = [LinearRegression()]\n",
    "# clfs = [gbm]\n",
    "clfs = [Ridge()]\n",
    "\n",
    "\n",
    "scores = []\n",
    "scores_base = []\n",
    "lols = []\n",
    "n_reps = 1\n",
    "k = 3\n",
    "for reps in range(n_reps):\n",
    "    skf = StratifiedKFold(y_binned, n_folds=k,\n",
    "                          shuffle=True,\n",
    "                          random_state=np.random.randint(0,100))\n",
    "    for ii, (train, valid) in enumerate(skf):\n",
    "        \n",
    "        \n",
    "#         history = LossHistory()   # for keras\n",
    "        print 'Fold %d' % ii,\n",
    "        X_train_k = q[train]\n",
    "        X_valid_k = q[valid]\n",
    "        y_train_k = y_train[train]\n",
    "        y_valid_k = y_train[valid]\n",
    "        y_train_binned_k = y_binned[train]\n",
    "        y_valid_binned_k = y_binned[valid]     \n",
    "        \n",
    "        \n",
    "        X_all = np.r_[X_train_k, X_valid_k]\n",
    "        y_all = np.r_[y_train_k, np.nan*np.ones(len(y_valid_k))]\n",
    "        \n",
    "        tic = time()\n",
    "#         clf.fit(X_train_k, y_train_k)\n",
    "#         clf.fit(X_all, y_all)\n",
    "\n",
    "        for clf in clfs:\n",
    "            clf.fit(X_train_k, pipe_y.transform(y_train_k))\n",
    "#             clf.fit(X_train_k, y_train_binned_k)\n",
    "#             clf.fit(X_train_k, y_train_binned_k,\n",
    "#                    nb_epoch=60, batch_size=1024*16, )\n",
    "#             clf.fit(X_train_k, y_train_k, \n",
    "#                     base0_y=y_train_binned_k,\n",
    "#                     base1_y=y_train_binned_k,\n",
    "# #                     base2_y=y_train_binned_k,\n",
    "#                    )\n",
    "    \n",
    "    \n",
    "        \n",
    "        # Minirank\n",
    "#         w, theta = mr.ordinal_logistic_fit(X_train_k, y_train_k, verbose=False,\n",
    "#                                 solver='TNC')\n",
    "\n",
    "        \n",
    "        toc = time() - tic\n",
    "        print 'Train time: %2.3f s\\t' % toc,\n",
    "        tic = time()\n",
    "\n",
    "        \n",
    "        \n",
    "        valid_preds = [clf.predict_weighted(X_valid_k,) \n",
    "                       if hasattr(clf, 'predict_weighted') \n",
    "                       else clf.predict(X_valid_k)\n",
    "                       for clf in clfs]\n",
    "        \n",
    "#         valid_preds = [clf.predict_weighted(X_valid_k, batch_size=1024*16) \n",
    "#                if hasattr(clf, 'predict_weighted') \n",
    "#                else clf.predict(X_valid_k)\n",
    "#                for clf in clfs]\n",
    "        \n",
    "        try:\n",
    "            lol = metrics.normalized_gini(y_valid_k, \n",
    "                                          clfs[0].predict_weighted(X_valid_k, geometric=True))\n",
    "            lols.append(lol)\n",
    "        except:\n",
    "            pass\n",
    "\n",
    "        # Minirank\n",
    "#         valid_preds = mr.ordinal_logistic_predict(w, theta, X_valid_k)\n",
    "        \n",
    "        valid_base_preds = np.mean([clf.predict(X_valid_k) for clf in clfs\n",
    "                                   ], \n",
    "                                   axis=0)\n",
    "\n",
    "        \n",
    "        score = [metrics.normalized_gini(y_valid_k, v) for v in valid_preds]\n",
    "        score_base = metrics.normalized_gini(y_valid_k, valid_base_preds)\n",
    "        \n",
    "        toc_pred = time() - tic\n",
    "        print 'Pred time: %2.3f s\\t' % toc_pred, \n",
    "        \n",
    "        print 'Score', score\n",
    "        print 'Score avg ensemble', score_base\n",
    "        scores.append(score)\n",
    "        scores_base.append(score_base)\n",
    "        \n",
    "#         break\n",
    "        \n",
    "        \n",
    "print \"done\"\n",
    "print 'Score:', np.array(scores).mean(axis=0)\n",
    "print 'Base Score:', np.array(scores_base).mean()\n",
    "print 'lol', lols, np.mean(lols)"
   ]
  },
  {
   "cell_type": "code",
   "execution_count": 9,
   "metadata": {
    "collapsed": true
   },
   "outputs": [],
   "source": [
    "from sklearn.datasets import dump_svmlight_file, load_svmlight_file"
   ]
  },
  {
   "cell_type": "code",
   "execution_count": 14,
   "metadata": {
    "collapsed": false
   },
   "outputs": [],
   "source": [
    "dump_svmlight_file(X_train, y_train, 'saved/train.svmlight')"
   ]
  },
  {
   "cell_type": "code",
   "execution_count": 15,
   "metadata": {
    "collapsed": false
   },
   "outputs": [],
   "source": [
    "X_all = np.r_[X_train, X_test]"
   ]
  },
  {
   "cell_type": "code",
   "execution_count": 17,
   "metadata": {
    "collapsed": false
   },
   "outputs": [],
   "source": [
    "dump_svmlight_file(X_all, np.zeros(len(X_all)), 'saved/X_all.svmlight')"
   ]
  },
  {
   "cell_type": "code",
   "execution_count": 78,
   "metadata": {
    "collapsed": false
   },
   "outputs": [],
   "source": []
  },
  {
   "cell_type": "code",
   "execution_count": 79,
   "metadata": {
    "collapsed": false
   },
   "outputs": [
    {
     "data": {
      "text/plain": [
       "(array([ 5081407.,  7292202.,  8151778.,  7961079.,  7241560.,  6197011.,\n",
       "         4813680.,  3009285.,  1121432.,   129566.]),\n",
       " array([ 0. ,  0.1,  0.2,  0.3,  0.4,  0.5,  0.6,  0.7,  0.8,  0.9,  1. ]),\n",
       " <a list of 10 Patch objects>)"
      ]
     },
     "execution_count": 79,
     "metadata": {},
     "output_type": "execute_result"
    },
    {
     "data": {
      "image/png": "[encoded data removed]",
      "text/plain": [
       "<matplotlib.figure.Figure at 0x7fb2d450a210>"
      ]
     },
     "metadata": {},
     "output_type": "display_data"
    }
   ],
   "source": []
  },
  {
   "cell_type": "code",
   "execution_count": 46,
   "metadata": {
    "collapsed": false
   },
   "outputs": [
    {
     "data": {
      "text/plain": [
       "(50999, 50)"
      ]
     },
     "execution_count": 46,
     "metadata": {},
     "output_type": "execute_result"
    }
   ],
   "source": [
    "q.shape"
   ]
  },
  {
   "cell_type": "code",
   "execution_count": 4,
   "metadata": {
    "collapsed": true
   },
   "outputs": [],
   "source": [
    "import os\n",
    "from subprocess import Popen, call, PIPE\n",
    "from sklearn.datasets import dump_svmlight_file, load_svmlight_file\n",
    "\n",
    "def call_stuff(cmd):\n",
    "    p = Popen(cmd, stdout=PIPE, stderr=PIPE)\n",
    "    while True:\n",
    "        line = p.stdout.readline()\n",
    "        if line != '':\n",
    "            print line.rstrip()\n",
    "        else:\n",
    "            break\n",
    "    output, err = p.communicate()\n",
    "    print output\n",
    "    print err"
   ]
  },
  {
   "cell_type": "code",
   "execution_count": 2,
   "metadata": {
    "collapsed": true
   },
   "outputs": [],
   "source": [
    "n_clusters = 2000"
   ]
  },
  {
   "cell_type": "code",
   "execution_count": 6,
   "metadata": {
    "collapsed": false
   },
   "outputs": [
    {
     "name": "stdout",
     "output_type": "stream",
     "text": [
      "Time to read training data from saved/X_all.svmlight: 0.72912\n",
      "Time to initialize cluster centers: 54.0341\n",
      "Objective function value for initialization: 1.70301e+07\n",
      "Time to compute objective function: 20.0283\n",
      "Time to optimize cluster centers: 15.8199\n",
      "Objective function value for training: 1.21412e+07\n",
      "Time to compute objective function: 20.2886\n",
      "\n",
      "Reading data from: saved/X_all.svmlight\n",
      "Writing model to: saved/model_sofia2000\n",
      "   Done.\n",
      "   Done.\n",
      "\n"
     ]
    }
   ],
   "source": [
    "fit_call = [\n",
    "    'sofia-kmeans',\n",
    "    '--k', str(n_clusters),\n",
    "    '--init_type', 'optimized_kmeans_pp',\n",
    "    '--opt_type', 'mini_batch_kmeans', \n",
    "    '--mini_batch_size', '100',\n",
    "    '--iterations', '800', \n",
    "    '--objective_after_init',\n",
    "    '--objective_after_training',\n",
    "    '--training_file', 'saved/X_all.svmlight',\n",
    "    '--model_out', 'saved/model_sofia%d'%n_clusters,\n",
    "]\n",
    "\n",
    "call_stuff(fit_call)"
   ]
  },
  {
   "cell_type": "code",
   "execution_count": 13,
   "metadata": {
    "collapsed": false
   },
   "outputs": [
    {
     "name": "stdout",
     "output_type": "stream",
     "text": [
      "Time to read training data from saved/train.svmlight: 0.331031\n",
      "\n",
      "Reading data from: saved/train.svmlight\n",
      "Writing cluster mappings to: saved/mapped2000_train.libsvm\n",
      "   Done.\n",
      "\n"
     ]
    }
   ],
   "source": [
    "map_call = [\n",
    "    'sofia-kmeans',\n",
    "    '--model_in', 'saved/model_sofia%d'%n_clusters,\n",
    "    '--test_file', 'saved/train.svmlight',\n",
    "    '--cluster_mapping_out', 'saved/mapped%d_train.libsvm'%n_clusters,\n",
    "    '--cluster_mapping_type', 'rbf_kernel',\n",
    "    '--cluster_mapping_param', '0.0003',\n",
    "    '--cluster_mapping_threshold', '0.01',\n",
    "]\n",
    "\n",
    "call_stuff(map_call)"
   ]
  },
  {
   "cell_type": "code",
   "execution_count": null,
   "metadata": {
    "collapsed": false
   },
   "outputs": [],
   "source": [
    "# np.save('saved/X_train_1000means.npy', q)"
   ]
  },
  {
   "cell_type": "code",
   "execution_count": 5,
   "metadata": {
    "collapsed": false
   },
   "outputs": [],
   "source": [
    "\n",
    "mapped_train, _y = load_svmlight_file('saved/mapped%d_train.libsvm'%n_clusters)\n",
    "q = mapped_train.todense()\n"
   ]
  },
  {
   "cell_type": "code",
   "execution_count": 6,
   "metadata": {
    "collapsed": false
   },
   "outputs": [
    {
     "data": {
      "text/plain": [
       "(array([  1628907.,   5668079.,   9077358.,  13035766.,  15994524.,\n",
       "         17308853.,  16765833.,  13896728.,   7555212.,   1066740.]),\n",
       " array([ 0.0129577 ,  0.11166193,  0.21036616,  0.30907039,  0.40777462,\n",
       "         0.50647885,  0.60518308,  0.70388731,  0.80259154,  0.90129577,  1.        ]),\n",
       " <a list of 10 Patch objects>)"
      ]
     },
     "execution_count": 6,
     "metadata": {},
     "output_type": "execute_result"
    },
    {
     "data": {
      "image/png": "[encoded data removed]",
      "text/plain": [
       "<matplotlib.figure.Figure at 0x7f060d94a810>"
      ]
     },
     "metadata": {},
     "output_type": "display_data"
    }
   ],
   "source": [
    "import matplotlib.pyplot as plt\n",
    "import seaborn as sns\n",
    "import numpy as np\n",
    "%matplotlib inline\n",
    "plt.hist(np.ravel(q))"
   ]
  }
 ],
 "metadata": {
  "kernelspec": {
   "display_name": "Python 2",
   "language": "python",
   "name": "python2"
  },
  "language_info": {
   "codemirror_mode": {
    "name": "ipython",
    "version": 2
   },
   "file_extension": ".py",
   "mimetype": "text/x-python",
   "name": "python",
   "nbconvert_exporter": "python",
   "pygments_lexer": "ipython2",
   "version": "2.7.8"
  }
 },
 "nbformat": 4,
 "nbformat_minor": 0
}
